{
 "cells": [
  {
   "cell_type": "code",
   "execution_count": 1,
   "id": "74b87d91",
   "metadata": {},
   "outputs": [],
   "source": [
    "import requests\n",
    "import bs4\n",
    "import warnings \n",
    "warnings.filterwarnings('ignore')\n",
    "from bs4 import BeautifulSoup\n",
    "import pandas as pd\n",
    "import re"
   ]
  },
  {
   "cell_type": "code",
   "execution_count": null,
   "id": "7d35501b",
   "metadata": {},
   "outputs": [],
   "source": []
  },
  {
   "cell_type": "markdown",
   "id": "51347c1a",
   "metadata": {},
   "source": [
    "1)  Write a python program to display all the header tags from wikipedia.org"
   ]
  },
  {
   "cell_type": "code",
   "execution_count": 69,
   "id": "6ae7ddc7",
   "metadata": {},
   "outputs": [
    {
     "data": {
      "text/plain": [
       "<Response [200]>"
      ]
     },
     "execution_count": 69,
     "metadata": {},
     "output_type": "execute_result"
    }
   ],
   "source": [
    "page=requests.get('https://en.wikipedia.org/wiki/Main_Page')\n",
    "page"
   ]
  },
  {
   "cell_type": "code",
   "execution_count": 70,
   "id": "333a2e4b",
   "metadata": {},
   "outputs": [],
   "source": [
    "soup=BeautifulSoup(page.content,'html')\n"
   ]
  },
  {
   "cell_type": "code",
   "execution_count": 75,
   "id": "e12ad949",
   "metadata": {},
   "outputs": [],
   "source": [
    "Header_tags= []\n",
    "for tag in soup.find_all('h2', class_='mp-h2'):\n",
    "    Header_tags.append(tag.text.strip())"
   ]
  },
  {
   "cell_type": "code",
   "execution_count": 76,
   "id": "4ef46a33",
   "metadata": {},
   "outputs": [
    {
     "data": {
      "text/plain": [
       "[\"From today's featured article\",\n",
       " 'Did you know\\xa0...',\n",
       " 'In the news',\n",
       " 'On this day',\n",
       " \"Today's featured picture\",\n",
       " 'Other areas of Wikipedia',\n",
       " \"Wikipedia's sister projects\",\n",
       " 'Wikipedia languages']"
      ]
     },
     "execution_count": 76,
     "metadata": {},
     "output_type": "execute_result"
    }
   ],
   "source": [
    "Header_tags"
   ]
  },
  {
   "cell_type": "code",
   "execution_count": null,
   "id": "3d3ef82d",
   "metadata": {},
   "outputs": [],
   "source": []
  },
  {
   "cell_type": "markdown",
   "id": "714984a6",
   "metadata": {},
   "source": [
    "2)  Write a python program to display IMDB’s Top rated 100 movies’ data (i.e. name, rating, year\n",
    "of release) and make data frame."
   ]
  },
  {
   "cell_type": "code",
   "execution_count": 6,
   "id": "321adb75",
   "metadata": {},
   "outputs": [
    {
     "data": {
      "text/plain": [
       "<Response [200]>"
      ]
     },
     "execution_count": 6,
     "metadata": {},
     "output_type": "execute_result"
    }
   ],
   "source": [
    "page=requests.get('https://www.imdb.com/list/ls056092300/')\n",
    "page"
   ]
  },
  {
   "cell_type": "code",
   "execution_count": 7,
   "id": "59890e54",
   "metadata": {},
   "outputs": [],
   "source": [
    "soup=BeautifulSoup(page.content)"
   ]
  },
  {
   "cell_type": "code",
   "execution_count": 8,
   "id": "757c143d",
   "metadata": {},
   "outputs": [],
   "source": [
    "#scraping name\n",
    "Name=[]\n",
    " \n",
    "for i in soup.find_all('h3',class_='lister-item-header'):\n",
    "    name=i.find('a')\n",
    "    Name.append(name.text)\n",
    "#sraping ratings\n",
    "Rating=[]\n",
    "for i in soup.find_all('div',class_='ipl-rating-star small'):\n",
    "    rating=i.text.replace('\\n','')\n",
    "    Rating.append(rating)\n",
    "\n",
    "#scraping year_of_redlease\n",
    "Year_of_release=[]\n",
    "\n",
    "for i in soup.find_all('span',class_='lister-item-year text-muted unbold'):\n",
    "    Year_of_release.append(i.text.strip())"
   ]
  },
  {
   "cell_type": "code",
   "execution_count": 9,
   "id": "9a5b278b",
   "metadata": {},
   "outputs": [
    {
     "data": {
      "text/html": [
       "<div>\n",
       "<style scoped>\n",
       "    .dataframe tbody tr th:only-of-type {\n",
       "        vertical-align: middle;\n",
       "    }\n",
       "\n",
       "    .dataframe tbody tr th {\n",
       "        vertical-align: top;\n",
       "    }\n",
       "\n",
       "    .dataframe thead th {\n",
       "        text-align: right;\n",
       "    }\n",
       "</style>\n",
       "<table border=\"1\" class=\"dataframe\">\n",
       "  <thead>\n",
       "    <tr style=\"text-align: right;\">\n",
       "      <th></th>\n",
       "      <th>Name</th>\n",
       "      <th>Rating</th>\n",
       "      <th>Year_of_release</th>\n",
       "    </tr>\n",
       "  </thead>\n",
       "  <tbody>\n",
       "    <tr>\n",
       "      <th>0</th>\n",
       "      <td>Ship of Theseus</td>\n",
       "      <td>8</td>\n",
       "      <td>(2012)</td>\n",
       "    </tr>\n",
       "    <tr>\n",
       "      <th>1</th>\n",
       "      <td>Iruvar</td>\n",
       "      <td>8.4</td>\n",
       "      <td>(1997)</td>\n",
       "    </tr>\n",
       "    <tr>\n",
       "      <th>2</th>\n",
       "      <td>Kaagaz Ke Phool</td>\n",
       "      <td>7.8</td>\n",
       "      <td>(1959)</td>\n",
       "    </tr>\n",
       "    <tr>\n",
       "      <th>3</th>\n",
       "      <td>Lagaan: Once Upon a Time in India</td>\n",
       "      <td>8.1</td>\n",
       "      <td>(2001)</td>\n",
       "    </tr>\n",
       "    <tr>\n",
       "      <th>4</th>\n",
       "      <td>Pather Panchali</td>\n",
       "      <td>8.2</td>\n",
       "      <td>(1955)</td>\n",
       "    </tr>\n",
       "    <tr>\n",
       "      <th>...</th>\n",
       "      <td>...</td>\n",
       "      <td>...</td>\n",
       "      <td>...</td>\n",
       "    </tr>\n",
       "    <tr>\n",
       "      <th>95</th>\n",
       "      <td>Apur Sansar</td>\n",
       "      <td>8.4</td>\n",
       "      <td>(1959)</td>\n",
       "    </tr>\n",
       "    <tr>\n",
       "      <th>96</th>\n",
       "      <td>Kanchivaram</td>\n",
       "      <td>8.2</td>\n",
       "      <td>(2008)</td>\n",
       "    </tr>\n",
       "    <tr>\n",
       "      <th>97</th>\n",
       "      <td>Monsoon Wedding</td>\n",
       "      <td>7.3</td>\n",
       "      <td>(2001)</td>\n",
       "    </tr>\n",
       "    <tr>\n",
       "      <th>98</th>\n",
       "      <td>Black</td>\n",
       "      <td>8.1</td>\n",
       "      <td>(2005)</td>\n",
       "    </tr>\n",
       "    <tr>\n",
       "      <th>99</th>\n",
       "      <td>Deewaar</td>\n",
       "      <td>8</td>\n",
       "      <td>(1975)</td>\n",
       "    </tr>\n",
       "  </tbody>\n",
       "</table>\n",
       "<p>100 rows × 3 columns</p>\n",
       "</div>"
      ],
      "text/plain": [
       "                                 Name Rating Year_of_release\n",
       "0                     Ship of Theseus      8          (2012)\n",
       "1                              Iruvar    8.4          (1997)\n",
       "2                     Kaagaz Ke Phool    7.8          (1959)\n",
       "3   Lagaan: Once Upon a Time in India    8.1          (2001)\n",
       "4                     Pather Panchali    8.2          (1955)\n",
       "..                                ...    ...             ...\n",
       "95                        Apur Sansar    8.4          (1959)\n",
       "96                        Kanchivaram    8.2          (2008)\n",
       "97                    Monsoon Wedding    7.3          (2001)\n",
       "98                              Black    8.1          (2005)\n",
       "99                            Deewaar      8          (1975)\n",
       "\n",
       "[100 rows x 3 columns]"
      ]
     },
     "execution_count": 9,
     "metadata": {},
     "output_type": "execute_result"
    }
   ],
   "source": [
    "Film=pd.DataFrame({'Name':Name,'Rating':Rating,'Year_of_release':Year_of_release})\n",
    "Film"
   ]
  },
  {
   "cell_type": "code",
   "execution_count": null,
   "id": "30c4f01a",
   "metadata": {},
   "outputs": [],
   "source": []
  },
  {
   "cell_type": "markdown",
   "id": "1e686978",
   "metadata": {},
   "source": [
    "3)  Write a python program to scrape mentioned details from dineout.co.in : i) Restaurant name\n",
    "ii) Cuisine iii) Location iv) Ratings v) Image URL."
   ]
  },
  {
   "cell_type": "code",
   "execution_count": 22,
   "id": "92f0548c",
   "metadata": {},
   "outputs": [
    {
     "data": {
      "text/plain": [
       "<Response [200]>"
      ]
     },
     "execution_count": 22,
     "metadata": {},
     "output_type": "execute_result"
    }
   ],
   "source": [
    "page=requests.get('https://www.dineout.co.in/hyderabad-restaurants/welcome-back')\n",
    "page"
   ]
  },
  {
   "cell_type": "code",
   "execution_count": 23,
   "id": "bf945176",
   "metadata": {},
   "outputs": [],
   "source": [
    "soup=BeautifulSoup(page.content)\n"
   ]
  },
  {
   "cell_type": "code",
   "execution_count": 48,
   "id": "45d65982",
   "metadata": {},
   "outputs": [],
   "source": [
    "names=[]\n",
    "\n",
    "for i in soup.find_all('a',class_=\"restnt-name ellipsis\"):\n",
    "    names.append(i.text)\n"
   ]
  },
  {
   "cell_type": "code",
   "execution_count": 51,
   "id": "958b63f4",
   "metadata": {},
   "outputs": [],
   "source": [
    "cuisine=[]\n",
    "\n",
    "for i in soup.find_all('span',class_='double-line-ellipsis'):\n",
    "    cuisine.append(i.text)"
   ]
  },
  {
   "cell_type": "code",
   "execution_count": 26,
   "id": "85aca459",
   "metadata": {},
   "outputs": [],
   "source": [
    "Location=[]\n",
    "\n",
    "for i in soup.find_all('div',class_='restnt-loc ellipsis'):\n",
    "    Location.append(i.text)"
   ]
  },
  {
   "cell_type": "code",
   "execution_count": 37,
   "id": "2e0f1502",
   "metadata": {},
   "outputs": [],
   "source": [
    "ratings=[]\n",
    "\n",
    "for i in soup.find_all('div',class_='restnt-rating-widget pull-right text-right'):\n",
    "    ratings.append(i.text)"
   ]
  },
  {
   "cell_type": "code",
   "execution_count": 28,
   "id": "0d4a03a5",
   "metadata": {},
   "outputs": [],
   "source": [
    "image=[]\n",
    "\n",
    "for i in soup.find_all('img',class_='no-img'):\n",
    "    image.append(i['data-src'])"
   ]
  },
  {
   "cell_type": "code",
   "execution_count": 53,
   "id": "1daf0f6b",
   "metadata": {},
   "outputs": [
    {
     "data": {
      "text/plain": [
       "(21, 21, 21, 21, 21)"
      ]
     },
     "execution_count": 53,
     "metadata": {},
     "output_type": "execute_result"
    }
   ],
   "source": [
    "len(names),len(cuisine),len(Location),len(ratings),len(image)"
   ]
  },
  {
   "cell_type": "code",
   "execution_count": 55,
   "id": "673b018b",
   "metadata": {},
   "outputs": [
    {
     "data": {
      "text/html": [
       "<div>\n",
       "<style scoped>\n",
       "    .dataframe tbody tr th:only-of-type {\n",
       "        vertical-align: middle;\n",
       "    }\n",
       "\n",
       "    .dataframe tbody tr th {\n",
       "        vertical-align: top;\n",
       "    }\n",
       "\n",
       "    .dataframe thead th {\n",
       "        text-align: right;\n",
       "    }\n",
       "</style>\n",
       "<table border=\"1\" class=\"dataframe\">\n",
       "  <thead>\n",
       "    <tr style=\"text-align: right;\">\n",
       "      <th></th>\n",
       "      <th>Restaurent_name</th>\n",
       "      <th>Cuisine</th>\n",
       "      <th>Location</th>\n",
       "      <th>ratings</th>\n",
       "      <th>image</th>\n",
       "    </tr>\n",
       "  </thead>\n",
       "  <tbody>\n",
       "    <tr>\n",
       "      <th>0</th>\n",
       "      <td>By The Bay - Bar Exchange</td>\n",
       "      <td>₹ 1,800 for 2 (approx) | North Indian, Contine...</td>\n",
       "      <td>Khairatabad, Central Hyderabad</td>\n",
       "      <td>4.3232 votes</td>\n",
       "      <td>https://im1.dineout.co.in/images/uploads/resta...</td>\n",
       "    </tr>\n",
       "    <tr>\n",
       "      <th>1</th>\n",
       "      <td>Pizza Hut</td>\n",
       "      <td>₹ 800 for 2 (approx) | Pizza, Fast Food</td>\n",
       "      <td>The Grand Building,Somajiguda, Central East Hy...</td>\n",
       "      <td>4.3232 votes</td>\n",
       "      <td>https://im1.dineout.co.in/images/uploads/resta...</td>\n",
       "    </tr>\n",
       "    <tr>\n",
       "      <th>2</th>\n",
       "      <td>Seven Spices</td>\n",
       "      <td>₹ 1,000 for 2 (approx) | Andhra, Biryani</td>\n",
       "      <td>Somajiguda, Central East Hyderabad</td>\n",
       "      <td>4.3232 votes</td>\n",
       "      <td>https://im1.dineout.co.in/images/uploads/resta...</td>\n",
       "    </tr>\n",
       "    <tr>\n",
       "      <th>3</th>\n",
       "      <td>Verandah</td>\n",
       "      <td>₹ 3,300 for 2 (approx) | Chinese, North Indian...</td>\n",
       "      <td>The Park,Somajiguda, Central East Hyderabad</td>\n",
       "      <td>4.3232 votes</td>\n",
       "      <td>https://im1.dineout.co.in/images/uploads/resta...</td>\n",
       "    </tr>\n",
       "    <tr>\n",
       "      <th>4</th>\n",
       "      <td>Eagles Pizza</td>\n",
       "      <td>₹ 600 for 2 (approx) | Pizza, Fast Food</td>\n",
       "      <td>Ohud Building,Somajiguda, Central East Hyderabad</td>\n",
       "      <td>4.3232 votes</td>\n",
       "      <td>https://im1.dineout.co.in/images/uploads/resta...</td>\n",
       "    </tr>\n",
       "    <tr>\n",
       "      <th>5</th>\n",
       "      <td>Headquarters</td>\n",
       "      <td>₹ 1,700 for 2 (approx) | North Indian, Italian...</td>\n",
       "      <td>Somajiguda, Central East Hyderabad</td>\n",
       "      <td>4.3232 votes</td>\n",
       "      <td>https://im1.dineout.co.in/images/uploads/resta...</td>\n",
       "    </tr>\n",
       "    <tr>\n",
       "      <th>6</th>\n",
       "      <td>Kuchipudi</td>\n",
       "      <td>₹ 1,000 for 2 (approx) | Andhra, North Indian</td>\n",
       "      <td>Katriya Hotel,Somajiguda, Central East Hyderabad</td>\n",
       "      <td>4.3232 votes</td>\n",
       "      <td>https://im1.dineout.co.in/images/uploads/resta...</td>\n",
       "    </tr>\n",
       "    <tr>\n",
       "      <th>7</th>\n",
       "      <td>Hideaway</td>\n",
       "      <td>₹ 400 for 2 (approx) | Chinese</td>\n",
       "      <td>Begumpet, Secunderabad</td>\n",
       "      <td>4.3232 votes</td>\n",
       "      <td>https://im1.dineout.co.in/images/uploads/resta...</td>\n",
       "    </tr>\n",
       "    <tr>\n",
       "      <th>8</th>\n",
       "      <td>Rocket Fuel Cafe</td>\n",
       "      <td>₹ 800 for 2 (approx) | Fast Food</td>\n",
       "      <td>Somajiguda, Central East Hyderabad</td>\n",
       "      <td>4.3232 votes</td>\n",
       "      <td>https://im1.dineout.co.in/images/uploads/resta...</td>\n",
       "    </tr>\n",
       "    <tr>\n",
       "      <th>9</th>\n",
       "      <td>One Fine Day</td>\n",
       "      <td>₹ 300 for 2 (approx) | Desserts</td>\n",
       "      <td>Necklace Road, Secunderabad</td>\n",
       "      <td>4.3232 votes</td>\n",
       "      <td>https://im1.dineout.co.in/images/uploads/resta...</td>\n",
       "    </tr>\n",
       "    <tr>\n",
       "      <th>10</th>\n",
       "      <td>Ice n Spice</td>\n",
       "      <td>₹ 800 for 2 (approx) | North Indian, Continent...</td>\n",
       "      <td>Hotel Inner Circle,Somajiguda, Central East Hy...</td>\n",
       "      <td>4.3232 votes</td>\n",
       "      <td>https://im1.dineout.co.in/images/uploads/resta...</td>\n",
       "    </tr>\n",
       "    <tr>\n",
       "      <th>11</th>\n",
       "      <td>Gayathri Bhavan</td>\n",
       "      <td>₹ 400 for 2 (approx) | Chinese, Biryani</td>\n",
       "      <td>SR Nagar, Central East Hyderabad</td>\n",
       "      <td>4.3232 votes</td>\n",
       "      <td>https://im1.dineout.co.in/images/uploads/resta...</td>\n",
       "    </tr>\n",
       "    <tr>\n",
       "      <th>12</th>\n",
       "      <td>Urvasi Bar And Restaurant</td>\n",
       "      <td>₹ 1,000 for 2 (approx) | North Indian, Chinese</td>\n",
       "      <td>Hotel Urvasi,Panjagutta, Central East Hyderabad</td>\n",
       "      <td>4.3232 votes</td>\n",
       "      <td>https://im1.dineout.co.in/images/uploads/resta...</td>\n",
       "    </tr>\n",
       "    <tr>\n",
       "      <th>13</th>\n",
       "      <td>Bidri</td>\n",
       "      <td>₹ 3,500 for 2 (approx) | Andhra, North Indian,...</td>\n",
       "      <td>Hyderabad Marriott Hotel and Convention Centre...</td>\n",
       "      <td>4.3232 votes</td>\n",
       "      <td>https://im1.dineout.co.in/images/uploads/resta...</td>\n",
       "    </tr>\n",
       "    <tr>\n",
       "      <th>14</th>\n",
       "      <td>WAFL Cafe</td>\n",
       "      <td>₹ 500 for 2 (approx) | Desserts, Fast Food, Be...</td>\n",
       "      <td>Khairatabad, Central Hyderabad</td>\n",
       "      <td>4.3232 votes</td>\n",
       "      <td>https://im1.dineout.co.in/images/uploads/resta...</td>\n",
       "    </tr>\n",
       "    <tr>\n",
       "      <th>15</th>\n",
       "      <td>Ohris Jiva Imperia</td>\n",
       "      <td>₹ 1,200 for 2 (approx) | North Indian, Chinese...</td>\n",
       "      <td>White House,Begumpet, Secunderabad</td>\n",
       "      <td>4.3232 votes</td>\n",
       "      <td>https://im1.dineout.co.in/images/uploads/resta...</td>\n",
       "    </tr>\n",
       "    <tr>\n",
       "      <th>16</th>\n",
       "      <td>10 Downing Street</td>\n",
       "      <td>₹ 2,000 for 2 (approx) | Finger Food, Chinese,...</td>\n",
       "      <td>Begumpet, Secunderabad</td>\n",
       "      <td>4.3232 votes</td>\n",
       "      <td>https://im1.dineout.co.in/images/uploads/resta...</td>\n",
       "    </tr>\n",
       "    <tr>\n",
       "      <th>17</th>\n",
       "      <td>Subway</td>\n",
       "      <td>₹ 500 for 2 (approx) | Fast Food</td>\n",
       "      <td>Somajiguda, Central East Hyderabad</td>\n",
       "      <td>4.3232 votes</td>\n",
       "      <td>https://im1.dineout.co.in/images/uploads/resta...</td>\n",
       "    </tr>\n",
       "    <tr>\n",
       "      <th>18</th>\n",
       "      <td>Ohri's Eatmor</td>\n",
       "      <td>₹ 500 for 2 (approx) | North Indian, Chinese, ...</td>\n",
       "      <td>White House,Begumpet, Secunderabad</td>\n",
       "      <td>4.3232 votes</td>\n",
       "      <td>https://im1.dineout.co.in/images/uploads/resta...</td>\n",
       "    </tr>\n",
       "    <tr>\n",
       "      <th>19</th>\n",
       "      <td>Country Dine</td>\n",
       "      <td>₹ 700 for 2 (approx) | Chinese, North Indian</td>\n",
       "      <td>Ameerpet, Central East Hyderabad</td>\n",
       "      <td>4.3232 votes</td>\n",
       "      <td>https://im1.dineout.co.in/images/uploads/resta...</td>\n",
       "    </tr>\n",
       "    <tr>\n",
       "      <th>20</th>\n",
       "      <td>Parampara - Flavours of india</td>\n",
       "      <td>₹ 1,000 for 2 (approx) | Chinese, North Indian</td>\n",
       "      <td>ANR Center,Banjara Hills, Central East Hyderabad</td>\n",
       "      <td>4.3232 votes</td>\n",
       "      <td>https://im1.dineout.co.in/images/uploads/resta...</td>\n",
       "    </tr>\n",
       "  </tbody>\n",
       "</table>\n",
       "</div>"
      ],
      "text/plain": [
       "                  Restaurent_name  \\\n",
       "0       By The Bay - Bar Exchange   \n",
       "1                       Pizza Hut   \n",
       "2                    Seven Spices   \n",
       "3                        Verandah   \n",
       "4                    Eagles Pizza   \n",
       "5                    Headquarters   \n",
       "6                       Kuchipudi   \n",
       "7                        Hideaway   \n",
       "8                Rocket Fuel Cafe   \n",
       "9                    One Fine Day   \n",
       "10                    Ice n Spice   \n",
       "11                Gayathri Bhavan   \n",
       "12      Urvasi Bar And Restaurant   \n",
       "13                          Bidri   \n",
       "14                      WAFL Cafe   \n",
       "15             Ohris Jiva Imperia   \n",
       "16              10 Downing Street   \n",
       "17                         Subway   \n",
       "18                  Ohri's Eatmor   \n",
       "19                   Country Dine   \n",
       "20  Parampara - Flavours of india   \n",
       "\n",
       "                                              Cuisine  \\\n",
       "0   ₹ 1,800 for 2 (approx) | North Indian, Contine...   \n",
       "1             ₹ 800 for 2 (approx) | Pizza, Fast Food   \n",
       "2            ₹ 1,000 for 2 (approx) | Andhra, Biryani   \n",
       "3   ₹ 3,300 for 2 (approx) | Chinese, North Indian...   \n",
       "4             ₹ 600 for 2 (approx) | Pizza, Fast Food   \n",
       "5   ₹ 1,700 for 2 (approx) | North Indian, Italian...   \n",
       "6       ₹ 1,000 for 2 (approx) | Andhra, North Indian   \n",
       "7                      ₹ 400 for 2 (approx) | Chinese   \n",
       "8                    ₹ 800 for 2 (approx) | Fast Food   \n",
       "9                     ₹ 300 for 2 (approx) | Desserts   \n",
       "10  ₹ 800 for 2 (approx) | North Indian, Continent...   \n",
       "11            ₹ 400 for 2 (approx) | Chinese, Biryani   \n",
       "12     ₹ 1,000 for 2 (approx) | North Indian, Chinese   \n",
       "13  ₹ 3,500 for 2 (approx) | Andhra, North Indian,...   \n",
       "14  ₹ 500 for 2 (approx) | Desserts, Fast Food, Be...   \n",
       "15  ₹ 1,200 for 2 (approx) | North Indian, Chinese...   \n",
       "16  ₹ 2,000 for 2 (approx) | Finger Food, Chinese,...   \n",
       "17                   ₹ 500 for 2 (approx) | Fast Food   \n",
       "18  ₹ 500 for 2 (approx) | North Indian, Chinese, ...   \n",
       "19       ₹ 700 for 2 (approx) | Chinese, North Indian   \n",
       "20     ₹ 1,000 for 2 (approx) | Chinese, North Indian   \n",
       "\n",
       "                                             Location       ratings  \\\n",
       "0                      Khairatabad, Central Hyderabad  4.3232 votes   \n",
       "1   The Grand Building,Somajiguda, Central East Hy...  4.3232 votes   \n",
       "2                  Somajiguda, Central East Hyderabad  4.3232 votes   \n",
       "3         The Park,Somajiguda, Central East Hyderabad  4.3232 votes   \n",
       "4    Ohud Building,Somajiguda, Central East Hyderabad  4.3232 votes   \n",
       "5                  Somajiguda, Central East Hyderabad  4.3232 votes   \n",
       "6    Katriya Hotel,Somajiguda, Central East Hyderabad  4.3232 votes   \n",
       "7                              Begumpet, Secunderabad  4.3232 votes   \n",
       "8                  Somajiguda, Central East Hyderabad  4.3232 votes   \n",
       "9                         Necklace Road, Secunderabad  4.3232 votes   \n",
       "10  Hotel Inner Circle,Somajiguda, Central East Hy...  4.3232 votes   \n",
       "11                   SR Nagar, Central East Hyderabad  4.3232 votes   \n",
       "12    Hotel Urvasi,Panjagutta, Central East Hyderabad  4.3232 votes   \n",
       "13  Hyderabad Marriott Hotel and Convention Centre...  4.3232 votes   \n",
       "14                     Khairatabad, Central Hyderabad  4.3232 votes   \n",
       "15                 White House,Begumpet, Secunderabad  4.3232 votes   \n",
       "16                             Begumpet, Secunderabad  4.3232 votes   \n",
       "17                 Somajiguda, Central East Hyderabad  4.3232 votes   \n",
       "18                 White House,Begumpet, Secunderabad  4.3232 votes   \n",
       "19                   Ameerpet, Central East Hyderabad  4.3232 votes   \n",
       "20   ANR Center,Banjara Hills, Central East Hyderabad  4.3232 votes   \n",
       "\n",
       "                                                image  \n",
       "0   https://im1.dineout.co.in/images/uploads/resta...  \n",
       "1   https://im1.dineout.co.in/images/uploads/resta...  \n",
       "2   https://im1.dineout.co.in/images/uploads/resta...  \n",
       "3   https://im1.dineout.co.in/images/uploads/resta...  \n",
       "4   https://im1.dineout.co.in/images/uploads/resta...  \n",
       "5   https://im1.dineout.co.in/images/uploads/resta...  \n",
       "6   https://im1.dineout.co.in/images/uploads/resta...  \n",
       "7   https://im1.dineout.co.in/images/uploads/resta...  \n",
       "8   https://im1.dineout.co.in/images/uploads/resta...  \n",
       "9   https://im1.dineout.co.in/images/uploads/resta...  \n",
       "10  https://im1.dineout.co.in/images/uploads/resta...  \n",
       "11  https://im1.dineout.co.in/images/uploads/resta...  \n",
       "12  https://im1.dineout.co.in/images/uploads/resta...  \n",
       "13  https://im1.dineout.co.in/images/uploads/resta...  \n",
       "14  https://im1.dineout.co.in/images/uploads/resta...  \n",
       "15  https://im1.dineout.co.in/images/uploads/resta...  \n",
       "16  https://im1.dineout.co.in/images/uploads/resta...  \n",
       "17  https://im1.dineout.co.in/images/uploads/resta...  \n",
       "18  https://im1.dineout.co.in/images/uploads/resta...  \n",
       "19  https://im1.dineout.co.in/images/uploads/resta...  \n",
       "20  https://im1.dineout.co.in/images/uploads/resta...  "
      ]
     },
     "execution_count": 55,
     "metadata": {},
     "output_type": "execute_result"
    }
   ],
   "source": [
    "Restaurent=pd.DataFrame({'Restaurent_name':names,'Cuisine':cuisine,'Location':Location,'ratings':ratings,'image':image})\n",
    "Restaurent"
   ]
  },
  {
   "cell_type": "code",
   "execution_count": null,
   "id": "364b38d9",
   "metadata": {},
   "outputs": [],
   "source": []
  },
  {
   "cell_type": "markdown",
   "id": "8651e6cc",
   "metadata": {},
   "source": [
    "4)  Write s python program to display list of respected former finance minister of India(i.e.\n",
    "Name , Term of office) from https://presidentofindia.nic.in/former-presidents.htm and make\n",
    "data frame."
   ]
  },
  {
   "cell_type": "code",
   "execution_count": 57,
   "id": "db4d2a43",
   "metadata": {},
   "outputs": [
    {
     "data": {
      "text/plain": [
       "<Response [200]>"
      ]
     },
     "execution_count": 57,
     "metadata": {},
     "output_type": "execute_result"
    }
   ],
   "source": [
    "page=requests.get('https://presidentofindia.nic.in/former-presidents')\n",
    "page"
   ]
  },
  {
   "cell_type": "code",
   "execution_count": 58,
   "id": "d8bd41f7",
   "metadata": {},
   "outputs": [],
   "source": [
    "soup=BeautifulSoup(page.content)"
   ]
  },
  {
   "cell_type": "code",
   "execution_count": 61,
   "id": "99d74c01",
   "metadata": {},
   "outputs": [],
   "source": [
    "name=[]\n",
    "\n",
    "for i in soup.find_all('div',class_='desc-sec'):\n",
    "    name.append(i.text.strip())\n"
   ]
  },
  {
   "cell_type": "code",
   "execution_count": 64,
   "id": "bb19c8e2",
   "metadata": {},
   "outputs": [],
   "source": [
    "Term_of_office=[]\n",
    "\n",
    "for i in soup.find_all('div',class_='desc-sec'):\n",
    "    term=i.find('h5')\n",
    "    Term_of_office.append(term.text)"
   ]
  },
  {
   "cell_type": "code",
   "execution_count": 67,
   "id": "b5dff5ca",
   "metadata": {},
   "outputs": [
    {
     "data": {
      "text/plain": [
       "(14, 14)"
      ]
     },
     "execution_count": 67,
     "metadata": {},
     "output_type": "execute_result"
    }
   ],
   "source": [
    "len(name),len(Term_of_office)"
   ]
  },
  {
   "cell_type": "code",
   "execution_count": 68,
   "id": "89710639",
   "metadata": {},
   "outputs": [
    {
     "data": {
      "text/html": [
       "<div>\n",
       "<style scoped>\n",
       "    .dataframe tbody tr th:only-of-type {\n",
       "        vertical-align: middle;\n",
       "    }\n",
       "\n",
       "    .dataframe tbody tr th {\n",
       "        vertical-align: top;\n",
       "    }\n",
       "\n",
       "    .dataframe thead th {\n",
       "        text-align: right;\n",
       "    }\n",
       "</style>\n",
       "<table border=\"1\" class=\"dataframe\">\n",
       "  <thead>\n",
       "    <tr style=\"text-align: right;\">\n",
       "      <th></th>\n",
       "      <th>Name</th>\n",
       "      <th>Term_of_office</th>\n",
       "    </tr>\n",
       "  </thead>\n",
       "  <tbody>\n",
       "    <tr>\n",
       "      <th>0</th>\n",
       "      <td>Shri Ram Nath Kovind\\n14th President of India</td>\n",
       "      <td>14th President of India</td>\n",
       "    </tr>\n",
       "    <tr>\n",
       "      <th>1</th>\n",
       "      <td>Shri Pranab Mukherjee\\n13th President of India</td>\n",
       "      <td>13th President of India</td>\n",
       "    </tr>\n",
       "    <tr>\n",
       "      <th>2</th>\n",
       "      <td>Smt Pratibha Devisingh Patil\\n12th President o...</td>\n",
       "      <td>12th President of India</td>\n",
       "    </tr>\n",
       "    <tr>\n",
       "      <th>3</th>\n",
       "      <td>DR. A.P.J. Abdul Kalam\\n11th President of India</td>\n",
       "      <td>11th President of India</td>\n",
       "    </tr>\n",
       "    <tr>\n",
       "      <th>4</th>\n",
       "      <td>Shri K. R. Narayanan\\n10th President of India</td>\n",
       "      <td>10th President of India</td>\n",
       "    </tr>\n",
       "    <tr>\n",
       "      <th>5</th>\n",
       "      <td>Dr Shankar Dayal Sharma\\n9th  President of India</td>\n",
       "      <td>9th  President of India</td>\n",
       "    </tr>\n",
       "    <tr>\n",
       "      <th>6</th>\n",
       "      <td>Shri R Venkataraman\\n8th President of India</td>\n",
       "      <td>8th President of India</td>\n",
       "    </tr>\n",
       "    <tr>\n",
       "      <th>7</th>\n",
       "      <td>Giani Zail Singh\\n7th President of India</td>\n",
       "      <td>7th President of India</td>\n",
       "    </tr>\n",
       "    <tr>\n",
       "      <th>8</th>\n",
       "      <td>Shri Neelam Sanjiva Reddy\\n6th President of India</td>\n",
       "      <td>6th President of India</td>\n",
       "    </tr>\n",
       "    <tr>\n",
       "      <th>9</th>\n",
       "      <td>Dr. Fakhruddin Ali Ahmed\\n5th President of India</td>\n",
       "      <td>5th President of India</td>\n",
       "    </tr>\n",
       "    <tr>\n",
       "      <th>10</th>\n",
       "      <td>Shri Varahagiri Venkata Giri\\n4th President of...</td>\n",
       "      <td>4th President of India</td>\n",
       "    </tr>\n",
       "    <tr>\n",
       "      <th>11</th>\n",
       "      <td>Dr. Zakir Husain\\n3rd President of India</td>\n",
       "      <td>3rd President of India</td>\n",
       "    </tr>\n",
       "    <tr>\n",
       "      <th>12</th>\n",
       "      <td>Dr. Sarvepalli Radhakrishnan\\n2nd President of...</td>\n",
       "      <td>2nd President of India</td>\n",
       "    </tr>\n",
       "    <tr>\n",
       "      <th>13</th>\n",
       "      <td>Dr. Rajendra Prasad\\n1st President of India</td>\n",
       "      <td>1st President of India</td>\n",
       "    </tr>\n",
       "  </tbody>\n",
       "</table>\n",
       "</div>"
      ],
      "text/plain": [
       "                                                 Name           Term_of_office\n",
       "0       Shri Ram Nath Kovind\\n14th President of India  14th President of India\n",
       "1      Shri Pranab Mukherjee\\n13th President of India  13th President of India\n",
       "2   Smt Pratibha Devisingh Patil\\n12th President o...  12th President of India\n",
       "3     DR. A.P.J. Abdul Kalam\\n11th President of India  11th President of India\n",
       "4       Shri K. R. Narayanan\\n10th President of India  10th President of India\n",
       "5    Dr Shankar Dayal Sharma\\n9th  President of India  9th  President of India\n",
       "6         Shri R Venkataraman\\n8th President of India   8th President of India\n",
       "7            Giani Zail Singh\\n7th President of India   7th President of India\n",
       "8   Shri Neelam Sanjiva Reddy\\n6th President of India   6th President of India\n",
       "9    Dr. Fakhruddin Ali Ahmed\\n5th President of India   5th President of India\n",
       "10  Shri Varahagiri Venkata Giri\\n4th President of...   4th President of India\n",
       "11           Dr. Zakir Husain\\n3rd President of India   3rd President of India\n",
       "12  Dr. Sarvepalli Radhakrishnan\\n2nd President of...   2nd President of India\n",
       "13        Dr. Rajendra Prasad\\n1st President of India   1st President of India"
      ]
     },
     "execution_count": 68,
     "metadata": {},
     "output_type": "execute_result"
    }
   ],
   "source": [
    "Former_president=pd.DataFrame({'Name':name,'Term_of_office':Term_of_office})\n",
    "Former_president"
   ]
  },
  {
   "cell_type": "code",
   "execution_count": null,
   "id": "a4b6810c",
   "metadata": {},
   "outputs": [],
   "source": []
  }
 ],
 "metadata": {
  "kernelspec": {
   "display_name": "Python 3 (ipykernel)",
   "language": "python",
   "name": "python3"
  },
  "language_info": {
   "codemirror_mode": {
    "name": "ipython",
    "version": 3
   },
   "file_extension": ".py",
   "mimetype": "text/x-python",
   "name": "python",
   "nbconvert_exporter": "python",
   "pygments_lexer": "ipython3",
   "version": "3.11.3"
  }
 },
 "nbformat": 4,
 "nbformat_minor": 5
}
