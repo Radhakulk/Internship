{
 "cells": [
  {
   "cell_type": "code",
   "execution_count": 4,
   "id": "9cbb6045",
   "metadata": {},
   "outputs": [
    {
     "name": "stdout",
     "output_type": "stream",
     "text": [
      "Collecting selenium\n",
      "  Downloading selenium-4.18.1-py3-none-any.whl (10.0 MB)\n",
      "                                              0.0/10.0 MB ? eta -:--:--\n",
      "                                              0.1/10.0 MB 2.2 MB/s eta 0:00:05\n",
      "     -                                        0.3/10.0 MB 3.2 MB/s eta 0:00:04\n",
      "     --                                       0.5/10.0 MB 3.9 MB/s eta 0:00:03\n",
      "     ---                                      0.8/10.0 MB 4.1 MB/s eta 0:00:03\n",
      "     ---                                      1.0/10.0 MB 4.3 MB/s eta 0:00:03\n",
      "     ----                                     1.2/10.0 MB 4.4 MB/s eta 0:00:03\n",
      "     -----                                    1.4/10.0 MB 4.2 MB/s eta 0:00:03\n",
      "     ------                                   1.6/10.0 MB 4.3 MB/s eta 0:00:02\n",
      "     -------                                  1.9/10.0 MB 4.6 MB/s eta 0:00:02\n",
      "     --------                                 2.1/10.0 MB 4.4 MB/s eta 0:00:02\n",
      "     ---------                                2.4/10.0 MB 4.6 MB/s eta 0:00:02\n",
      "     ----------                               2.6/10.0 MB 4.5 MB/s eta 0:00:02\n",
      "     -----------                              2.9/10.0 MB 4.7 MB/s eta 0:00:02\n",
      "     ------------                             3.1/10.0 MB 4.8 MB/s eta 0:00:02\n",
      "     -------------                            3.4/10.0 MB 4.8 MB/s eta 0:00:02\n",
      "     --------------                           3.7/10.0 MB 4.9 MB/s eta 0:00:02\n",
      "     ---------------                          3.9/10.0 MB 4.9 MB/s eta 0:00:02\n",
      "     ----------------                         4.1/10.0 MB 4.8 MB/s eta 0:00:02\n",
      "     -----------------                        4.4/10.0 MB 4.9 MB/s eta 0:00:02\n",
      "     ------------------                       4.6/10.0 MB 4.9 MB/s eta 0:00:02\n",
      "     -------------------                      4.8/10.0 MB 4.9 MB/s eta 0:00:02\n",
      "     --------------------                     5.1/10.0 MB 4.9 MB/s eta 0:00:02\n",
      "     --------------------                     5.2/10.0 MB 4.8 MB/s eta 0:00:01\n",
      "     ---------------------                    5.5/10.0 MB 4.9 MB/s eta 0:00:01\n",
      "     ----------------------                   5.7/10.0 MB 4.8 MB/s eta 0:00:01\n",
      "     -----------------------                  5.9/10.0 MB 4.8 MB/s eta 0:00:01\n",
      "     ------------------------                 6.2/10.0 MB 4.8 MB/s eta 0:00:01\n",
      "     -------------------------                6.4/10.0 MB 4.8 MB/s eta 0:00:01\n",
      "     --------------------------               6.7/10.0 MB 4.8 MB/s eta 0:00:01\n",
      "     ---------------------------              6.9/10.0 MB 4.8 MB/s eta 0:00:01\n",
      "     ----------------------------             7.1/10.0 MB 4.8 MB/s eta 0:00:01\n",
      "     -----------------------------            7.5/10.0 MB 4.8 MB/s eta 0:00:01\n",
      "     ------------------------------           7.7/10.0 MB 4.8 MB/s eta 0:00:01\n",
      "     -------------------------------          7.9/10.0 MB 4.8 MB/s eta 0:00:01\n",
      "     --------------------------------         8.1/10.0 MB 4.8 MB/s eta 0:00:01\n",
      "     ---------------------------------        8.4/10.0 MB 4.8 MB/s eta 0:00:01\n",
      "     ----------------------------------       8.6/10.0 MB 4.8 MB/s eta 0:00:01\n",
      "     -----------------------------------      8.8/10.0 MB 4.8 MB/s eta 0:00:01\n",
      "     ------------------------------------     9.1/10.0 MB 4.8 MB/s eta 0:00:01\n",
      "     -------------------------------------    9.4/10.0 MB 4.8 MB/s eta 0:00:01\n",
      "     --------------------------------------   9.6/10.0 MB 4.9 MB/s eta 0:00:01\n",
      "     ---------------------------------------  9.9/10.0 MB 4.9 MB/s eta 0:00:01\n",
      "     ---------------------------------------  10.0/10.0 MB 4.8 MB/s eta 0:00:01\n",
      "     ---------------------------------------- 10.0/10.0 MB 4.7 MB/s eta 0:00:00\n",
      "Requirement already satisfied: urllib3[socks]<3,>=1.26 in c:\\users\\administrator\\anaconda3\\lib\\site-packages (from selenium) (1.26.16)\n",
      "Collecting trio~=0.17 (from selenium)\n",
      "  Using cached trio-0.24.0-py3-none-any.whl (460 kB)\n",
      "Collecting trio-websocket~=0.9 (from selenium)\n",
      "  Using cached trio_websocket-0.11.1-py3-none-any.whl (17 kB)\n",
      "Requirement already satisfied: certifi>=2021.10.8 in c:\\users\\administrator\\anaconda3\\lib\\site-packages (from selenium) (2023.5.7)\n",
      "Collecting typing_extensions>=4.9.0 (from selenium)\n",
      "  Downloading typing_extensions-4.10.0-py3-none-any.whl (33 kB)\n",
      "Requirement already satisfied: attrs>=20.1.0 in c:\\users\\administrator\\anaconda3\\lib\\site-packages (from trio~=0.17->selenium) (22.1.0)\n",
      "Requirement already satisfied: sortedcontainers in c:\\users\\administrator\\anaconda3\\lib\\site-packages (from trio~=0.17->selenium) (2.4.0)\n",
      "Requirement already satisfied: idna in c:\\users\\administrator\\anaconda3\\lib\\site-packages (from trio~=0.17->selenium) (3.4)\n",
      "Collecting outcome (from trio~=0.17->selenium)\n",
      "  Using cached outcome-1.3.0.post0-py2.py3-none-any.whl (10 kB)\n",
      "Collecting sniffio>=1.3.0 (from trio~=0.17->selenium)\n",
      "  Downloading sniffio-1.3.1-py3-none-any.whl (10 kB)\n",
      "Requirement already satisfied: cffi>=1.14 in c:\\users\\administrator\\anaconda3\\lib\\site-packages (from trio~=0.17->selenium) (1.15.1)\n",
      "Collecting wsproto>=0.14 (from trio-websocket~=0.9->selenium)\n",
      "  Using cached wsproto-1.2.0-py3-none-any.whl (24 kB)\n",
      "Requirement already satisfied: PySocks!=1.5.7,<2.0,>=1.5.6 in c:\\users\\administrator\\anaconda3\\lib\\site-packages (from urllib3[socks]<3,>=1.26->selenium) (1.7.1)\n",
      "Requirement already satisfied: pycparser in c:\\users\\administrator\\anaconda3\\lib\\site-packages (from cffi>=1.14->trio~=0.17->selenium) (2.21)\n",
      "Collecting h11<1,>=0.9.0 (from wsproto>=0.14->trio-websocket~=0.9->selenium)\n",
      "  Using cached h11-0.14.0-py3-none-any.whl (58 kB)\n",
      "Installing collected packages: typing_extensions, sniffio, outcome, h11, wsproto, trio, trio-websocket, selenium\n",
      "  Attempting uninstall: typing_extensions\n",
      "    Found existing installation: typing_extensions 4.6.3\n",
      "    Uninstalling typing_extensions-4.6.3:\n",
      "      Successfully uninstalled typing_extensions-4.6.3\n",
      "  Attempting uninstall: sniffio\n",
      "    Found existing installation: sniffio 1.2.0\n",
      "    Uninstalling sniffio-1.2.0:\n",
      "      Successfully uninstalled sniffio-1.2.0\n",
      "Successfully installed h11-0.14.0 outcome-1.3.0.post0 selenium-4.18.1 sniffio-1.3.1 trio-0.24.0 trio-websocket-0.11.1 typing_extensions-4.10.0 wsproto-1.2.0\n",
      "Note: you may need to restart the kernel to use updated packages.\n"
     ]
    }
   ],
   "source": [
    "pip install selenium"
   ]
  },
  {
   "cell_type": "code",
   "execution_count": 1,
   "id": "5369520e",
   "metadata": {},
   "outputs": [],
   "source": [
    "import pandas as pd\n",
    "import selenium\n",
    "from selenium import webdriver\n",
    "from selenium.webdriver.common.by import By\n",
    "import time\n",
    "import warnings\n",
    "warnings.filterwarnings('ignore')\n",
    "import time"
   ]
  },
  {
   "cell_type": "code",
   "execution_count": null,
   "id": "ad205e18",
   "metadata": {},
   "outputs": [],
   "source": []
  },
  {
   "cell_type": "markdown",
   "id": "c909a28e",
   "metadata": {},
   "source": [
    "Q2) Write a python program to scrape data for ““Data Scientist” Job position in “Bangalore” location.\n",
    "You have to scrape the job-title, job-location, company_name, experience_required. You have to\n",
    "scrape first 10 jobs data."
   ]
  },
  {
   "cell_type": "code",
   "execution_count": 54,
   "id": "99eb95c8",
   "metadata": {},
   "outputs": [],
   "source": [
    "driver=webdriver.Chrome()\n",
    "driver.get('https://www.naukri.com/')"
   ]
  },
  {
   "cell_type": "code",
   "execution_count": 9,
   "id": "ce415cd3",
   "metadata": {},
   "outputs": [],
   "source": [
    "designation=driver.find_element(By.CLASS_NAME,'suggestor-input')\n",
    "designation.send_keys('Data analyst')"
   ]
  },
  {
   "cell_type": "code",
   "execution_count": 10,
   "id": "cb06faa1",
   "metadata": {},
   "outputs": [],
   "source": [
    "location=driver.find_element(By.XPATH,'/html/body/div[1]/div[7]/div/div/div[5]/div/div/div/div[1]/div/input')\n",
    "location.send_keys('Bangalore')"
   ]
  },
  {
   "cell_type": "code",
   "execution_count": 11,
   "id": "de2a2622",
   "metadata": {},
   "outputs": [],
   "source": [
    "search=driver.find_element(By.CLASS_NAME,'qsbSubmit')\n",
    "search.click()"
   ]
  },
  {
   "cell_type": "code",
   "execution_count": 25,
   "id": "148fe605",
   "metadata": {},
   "outputs": [],
   "source": [
    "Job_title=[]\n",
    "job_location=[]\n",
    "company_name=[]\n",
    "experience_required=[]"
   ]
  },
  {
   "cell_type": "code",
   "execution_count": 26,
   "id": "06649e56",
   "metadata": {},
   "outputs": [],
   "source": [
    "i=0\n",
    "title_tag=driver.find_elements(By.XPATH,'//div[@class=\"cust-job-tuple layout-wrapper lay-2 sjw__tuple \"]/div/a')\n",
    "for element in title_tag:\n",
    "    if i>10:\n",
    "        break\n",
    "    title=element.text\n",
    "    Job_title.append(title)\n",
    "    i+=1\n"
   ]
  },
  {
   "cell_type": "code",
   "execution_count": 38,
   "id": "6975ebe8",
   "metadata": {},
   "outputs": [
    {
     "data": {
      "text/plain": [
       "(11, 11, 11, 11)"
      ]
     },
     "execution_count": 38,
     "metadata": {},
     "output_type": "execute_result"
    }
   ],
   "source": [
    "len(Job_title),len(job_location),len(company_name),len(experience_required)"
   ]
  },
  {
   "cell_type": "code",
   "execution_count": 30,
   "id": "e50c1a8f",
   "metadata": {},
   "outputs": [],
   "source": [
    "i=0\n",
    "location_tag=driver.find_elements(By.XPATH,'//span[@class=\"locWdth\"]')\n",
    "for element in location_tag:\n",
    "    if i>10:\n",
    "        break\n",
    "    location=element.text\n",
    "    job_location.append(location)\n",
    "    i+=1\n",
    "        "
   ]
  },
  {
   "cell_type": "code",
   "execution_count": 33,
   "id": "8c120fa8",
   "metadata": {},
   "outputs": [],
   "source": [
    "company_tag=driver.find_elements(By.XPATH,'//div[@class=\" row2\"]/span/a[1]')\n",
    "i=0\n",
    "for element in company_tag:\n",
    "    if i>10:\n",
    "        break\n",
    "    company=element.text\n",
    "    company_name.append(company)\n",
    "    i+=1"
   ]
  },
  {
   "cell_type": "code",
   "execution_count": 34,
   "id": "28f7b1ea",
   "metadata": {},
   "outputs": [],
   "source": [
    "experience_tag=driver.find_elements(By.XPATH,'//span[@class=\"expwdth\"]')\n",
    "i=0\n",
    "for element in experience_tag:\n",
    "    if i>10:\n",
    "        break\n",
    "    experience=element.text\n",
    "    experience_required.append(experience)\n",
    "    i+=1"
   ]
  },
  {
   "cell_type": "code",
   "execution_count": 41,
   "id": "d0ac88e8",
   "metadata": {},
   "outputs": [
    {
     "data": {
      "text/html": [
       "<div>\n",
       "<style scoped>\n",
       "    .dataframe tbody tr th:only-of-type {\n",
       "        vertical-align: middle;\n",
       "    }\n",
       "\n",
       "    .dataframe tbody tr th {\n",
       "        vertical-align: top;\n",
       "    }\n",
       "\n",
       "    .dataframe thead th {\n",
       "        text-align: right;\n",
       "    }\n",
       "</style>\n",
       "<table border=\"1\" class=\"dataframe\">\n",
       "  <thead>\n",
       "    <tr style=\"text-align: right;\">\n",
       "      <th></th>\n",
       "      <th>Job_title</th>\n",
       "      <th>Job_location</th>\n",
       "      <th>Company_name</th>\n",
       "      <th>Experience_required</th>\n",
       "    </tr>\n",
       "  </thead>\n",
       "  <tbody>\n",
       "    <tr>\n",
       "      <th>0</th>\n",
       "      <td>Data Analyst</td>\n",
       "      <td>Kolkata, Mumbai, New Delhi, Hyderabad, Pune, C...</td>\n",
       "      <td>Orbit Skyline, Inc</td>\n",
       "      <td>2-4 Yrs</td>\n",
       "    </tr>\n",
       "    <tr>\n",
       "      <th>1</th>\n",
       "      <td>Data Analyst</td>\n",
       "      <td>Bengaluru</td>\n",
       "      <td>Target</td>\n",
       "      <td>2-4 Yrs</td>\n",
       "    </tr>\n",
       "    <tr>\n",
       "      <th>2</th>\n",
       "      <td>Online Data Analyst</td>\n",
       "      <td>Kolkata, Mumbai, New Delhi, Hyderabad, Pune, C...</td>\n",
       "      <td>TELUS International</td>\n",
       "      <td>1-4 Yrs</td>\n",
       "    </tr>\n",
       "    <tr>\n",
       "      <th>3</th>\n",
       "      <td>Data Analyst</td>\n",
       "      <td>Mumbai, Bengaluru</td>\n",
       "      <td>FedEx TSCS (India) Pvt Ltd</td>\n",
       "      <td>1-4 Yrs</td>\n",
       "    </tr>\n",
       "    <tr>\n",
       "      <th>4</th>\n",
       "      <td>Data Analyst (automotive)</td>\n",
       "      <td>Bangalore/Bengaluru(Domlur)</td>\n",
       "      <td>Fenyes Engineered Technology Pvt Ltd</td>\n",
       "      <td>5-6 Yrs</td>\n",
       "    </tr>\n",
       "    <tr>\n",
       "      <th>5</th>\n",
       "      <td>Data Analyst</td>\n",
       "      <td>Hybrid - Bangalore Rural, Karnataka, Hyderabad...</td>\n",
       "      <td>Tsit Digital Technologies</td>\n",
       "      <td>5-10 Yrs</td>\n",
       "    </tr>\n",
       "    <tr>\n",
       "      <th>6</th>\n",
       "      <td>Data Analyst</td>\n",
       "      <td>Bengaluru(4th Phase JP Nagar)</td>\n",
       "      <td>Objectwin Technology</td>\n",
       "      <td>1-5 Yrs</td>\n",
       "    </tr>\n",
       "    <tr>\n",
       "      <th>7</th>\n",
       "      <td>Job opportunity _ Data Analyst</td>\n",
       "      <td>Bangalore Rural, Karnataka, Hyderabad, Telanga...</td>\n",
       "      <td>Talent Sketchers</td>\n",
       "      <td>6-10 Yrs</td>\n",
       "    </tr>\n",
       "    <tr>\n",
       "      <th>8</th>\n",
       "      <td>Data Analyst</td>\n",
       "      <td>Hybrid - Bengaluru</td>\n",
       "      <td>Team ware solutions</td>\n",
       "      <td>5-10 Yrs</td>\n",
       "    </tr>\n",
       "    <tr>\n",
       "      <th>9</th>\n",
       "      <td>ETL - Data Analyst</td>\n",
       "      <td>Bengaluru</td>\n",
       "      <td>2coms</td>\n",
       "      <td>5-10 Yrs</td>\n",
       "    </tr>\n",
       "    <tr>\n",
       "      <th>10</th>\n",
       "      <td>Intelliswift is hiring For a Data Analyst Bang...</td>\n",
       "      <td>Hybrid - Bengaluru</td>\n",
       "      <td>Intelliswift</td>\n",
       "      <td>8-12 Yrs</td>\n",
       "    </tr>\n",
       "  </tbody>\n",
       "</table>\n",
       "</div>"
      ],
      "text/plain": [
       "                                            Job_title  \\\n",
       "0                                        Data Analyst   \n",
       "1                                        Data Analyst   \n",
       "2                                 Online Data Analyst   \n",
       "3                                        Data Analyst   \n",
       "4                           Data Analyst (automotive)   \n",
       "5                                        Data Analyst   \n",
       "6                                        Data Analyst   \n",
       "7                      Job opportunity _ Data Analyst   \n",
       "8                                        Data Analyst   \n",
       "9                                  ETL - Data Analyst   \n",
       "10  Intelliswift is hiring For a Data Analyst Bang...   \n",
       "\n",
       "                                         Job_location  \\\n",
       "0   Kolkata, Mumbai, New Delhi, Hyderabad, Pune, C...   \n",
       "1                                           Bengaluru   \n",
       "2   Kolkata, Mumbai, New Delhi, Hyderabad, Pune, C...   \n",
       "3                                   Mumbai, Bengaluru   \n",
       "4                         Bangalore/Bengaluru(Domlur)   \n",
       "5   Hybrid - Bangalore Rural, Karnataka, Hyderabad...   \n",
       "6                       Bengaluru(4th Phase JP Nagar)   \n",
       "7   Bangalore Rural, Karnataka, Hyderabad, Telanga...   \n",
       "8                                  Hybrid - Bengaluru   \n",
       "9                                           Bengaluru   \n",
       "10                                 Hybrid - Bengaluru   \n",
       "\n",
       "                            Company_name Experience_required  \n",
       "0                     Orbit Skyline, Inc             2-4 Yrs  \n",
       "1                                 Target             2-4 Yrs  \n",
       "2                    TELUS International             1-4 Yrs  \n",
       "3             FedEx TSCS (India) Pvt Ltd             1-4 Yrs  \n",
       "4   Fenyes Engineered Technology Pvt Ltd             5-6 Yrs  \n",
       "5              Tsit Digital Technologies            5-10 Yrs  \n",
       "6                   Objectwin Technology             1-5 Yrs  \n",
       "7                       Talent Sketchers            6-10 Yrs  \n",
       "8                    Team ware solutions            5-10 Yrs  \n",
       "9                                  2coms            5-10 Yrs  \n",
       "10                          Intelliswift            8-12 Yrs  "
      ]
     },
     "execution_count": 41,
     "metadata": {},
     "output_type": "execute_result"
    }
   ],
   "source": [
    "Job=pd.DataFrame({'Job_title':Job_title,'Job_location':job_location,'Company_name':company_name,'Experience_required':experience_required})\n",
    "Job"
   ]
  },
  {
   "cell_type": "code",
   "execution_count": null,
   "id": "1a3d5269",
   "metadata": {},
   "outputs": [],
   "source": []
  },
  {
   "cell_type": "markdown",
   "id": "ca0da748",
   "metadata": {},
   "source": [
    "Q3: Scrape data of first 100 sunglasses listings on flipkart.com. You have to scrape four attributes:\n",
    "1. Brand\n",
    "2. ProductDescription\n",
    "3. Price"
   ]
  },
  {
   "cell_type": "code",
   "execution_count": 175,
   "id": "14ee3c87",
   "metadata": {},
   "outputs": [],
   "source": [
    "driver=webdriver.Chrome()\n",
    "driver.get('https://www.flipkart.com/')"
   ]
  },
  {
   "cell_type": "code",
   "execution_count": 176,
   "id": "825f6fb8",
   "metadata": {},
   "outputs": [],
   "source": [
    "search_item=driver.find_element(By.XPATH,'/html/body/div[1]/div/div[1]/div/div/div/div/div[1]/div/div[1]/div/div[1]/div[1]/header/div[1]/div[2]/form/div/div/input')\n",
    "search_item.send_keys('Sunglasses')"
   ]
  },
  {
   "cell_type": "code",
   "execution_count": 177,
   "id": "9d80bb6b",
   "metadata": {},
   "outputs": [],
   "source": [
    "search=driver.find_element(By.XPATH,'/html/body/div[1]/div/div[1]/div/div/div/div/div[1]/div/div[1]/div/div[1]/div[1]/header/div[1]/div[2]/form/div/button')\n",
    "search.click()"
   ]
  },
  {
   "cell_type": "code",
   "execution_count": 183,
   "id": "77990511",
   "metadata": {},
   "outputs": [
    {
     "ename": "NoSuchElementException",
     "evalue": "Message: no such element: Unable to locate element: {\"method\":\"xpath\",\"selector\":\"/html/body/div/div/div[3]/div[1]/div[2]/div[12]/div/div/nav/a[11]/span\"}\n  (Session info: chrome=122.0.6261.95); For documentation on this error, please visit: https://www.selenium.dev/documentation/webdriver/troubleshooting/errors#no-such-element-exception\nStacktrace:\n\tGetHandleVerifier [0x00007FF770C6AD22+56930]\n\t(No symbol) [0x00007FF770BDF622]\n\t(No symbol) [0x00007FF770A942E5]\n\t(No symbol) [0x00007FF770AD98ED]\n\t(No symbol) [0x00007FF770AD9A2C]\n\t(No symbol) [0x00007FF770B1A967]\n\t(No symbol) [0x00007FF770AFBCDF]\n\t(No symbol) [0x00007FF770B181E2]\n\t(No symbol) [0x00007FF770AFBA43]\n\t(No symbol) [0x00007FF770ACD438]\n\t(No symbol) [0x00007FF770ACE4D1]\n\tGetHandleVerifier [0x00007FF770FE6AAD+3709933]\n\tGetHandleVerifier [0x00007FF77103FFED+4075821]\n\tGetHandleVerifier [0x00007FF77103817F+4043455]\n\tGetHandleVerifier [0x00007FF770D09756+706710]\n\t(No symbol) [0x00007FF770BEB8FF]\n\t(No symbol) [0x00007FF770BE6AE4]\n\t(No symbol) [0x00007FF770BE6C3C]\n\t(No symbol) [0x00007FF770BD68F4]\n\tBaseThreadInitThunk [0x00007FFF5C94257D+29]\n\tRtlUserThreadStart [0x00007FFF5DF2AA58+40]\n",
     "output_type": "error",
     "traceback": [
      "\u001b[1;31m---------------------------------------------------------------------------\u001b[0m",
      "\u001b[1;31mNoSuchElementException\u001b[0m                    Traceback (most recent call last)",
      "Cell \u001b[1;32mIn[183], line 9\u001b[0m\n\u001b[0;32m      7\u001b[0m \u001b[38;5;28;01mfor\u001b[39;00m tag \u001b[38;5;129;01min\u001b[39;00m brand_tag:\n\u001b[0;32m      8\u001b[0m     brand_title\u001b[38;5;241m.\u001b[39mappend(tag\u001b[38;5;241m.\u001b[39mtext)\n\u001b[1;32m----> 9\u001b[0m next_button\u001b[38;5;241m=\u001b[39mdriver\u001b[38;5;241m.\u001b[39mfind_element(By\u001b[38;5;241m.\u001b[39mXPATH,\u001b[38;5;124m'\u001b[39m\u001b[38;5;124m/html/body/div/div/div[3]/div[1]/div[2]/div[12]/div/div/nav/a[11]/span\u001b[39m\u001b[38;5;124m'\u001b[39m)\n\u001b[0;32m     10\u001b[0m next_button\u001b[38;5;241m.\u001b[39mclick()\n\u001b[0;32m     11\u001b[0m time\u001b[38;5;241m.\u001b[39msleep(\u001b[38;5;241m3\u001b[39m)\n",
      "File \u001b[1;32m~\\anaconda3\\Lib\\site-packages\\selenium\\webdriver\\remote\\webdriver.py:741\u001b[0m, in \u001b[0;36mWebDriver.find_element\u001b[1;34m(self, by, value)\u001b[0m\n\u001b[0;32m    738\u001b[0m     by \u001b[38;5;241m=\u001b[39m By\u001b[38;5;241m.\u001b[39mCSS_SELECTOR\n\u001b[0;32m    739\u001b[0m     value \u001b[38;5;241m=\u001b[39m \u001b[38;5;124mf\u001b[39m\u001b[38;5;124m'\u001b[39m\u001b[38;5;124m[name=\u001b[39m\u001b[38;5;124m\"\u001b[39m\u001b[38;5;132;01m{\u001b[39;00mvalue\u001b[38;5;132;01m}\u001b[39;00m\u001b[38;5;124m\"\u001b[39m\u001b[38;5;124m]\u001b[39m\u001b[38;5;124m'\u001b[39m\n\u001b[1;32m--> 741\u001b[0m \u001b[38;5;28;01mreturn\u001b[39;00m \u001b[38;5;28mself\u001b[39m\u001b[38;5;241m.\u001b[39mexecute(Command\u001b[38;5;241m.\u001b[39mFIND_ELEMENT, {\u001b[38;5;124m\"\u001b[39m\u001b[38;5;124musing\u001b[39m\u001b[38;5;124m\"\u001b[39m: by, \u001b[38;5;124m\"\u001b[39m\u001b[38;5;124mvalue\u001b[39m\u001b[38;5;124m\"\u001b[39m: value})[\u001b[38;5;124m\"\u001b[39m\u001b[38;5;124mvalue\u001b[39m\u001b[38;5;124m\"\u001b[39m]\n",
      "File \u001b[1;32m~\\anaconda3\\Lib\\site-packages\\selenium\\webdriver\\remote\\webdriver.py:347\u001b[0m, in \u001b[0;36mWebDriver.execute\u001b[1;34m(self, driver_command, params)\u001b[0m\n\u001b[0;32m    345\u001b[0m response \u001b[38;5;241m=\u001b[39m \u001b[38;5;28mself\u001b[39m\u001b[38;5;241m.\u001b[39mcommand_executor\u001b[38;5;241m.\u001b[39mexecute(driver_command, params)\n\u001b[0;32m    346\u001b[0m \u001b[38;5;28;01mif\u001b[39;00m response:\n\u001b[1;32m--> 347\u001b[0m     \u001b[38;5;28mself\u001b[39m\u001b[38;5;241m.\u001b[39merror_handler\u001b[38;5;241m.\u001b[39mcheck_response(response)\n\u001b[0;32m    348\u001b[0m     response[\u001b[38;5;124m\"\u001b[39m\u001b[38;5;124mvalue\u001b[39m\u001b[38;5;124m\"\u001b[39m] \u001b[38;5;241m=\u001b[39m \u001b[38;5;28mself\u001b[39m\u001b[38;5;241m.\u001b[39m_unwrap_value(response\u001b[38;5;241m.\u001b[39mget(\u001b[38;5;124m\"\u001b[39m\u001b[38;5;124mvalue\u001b[39m\u001b[38;5;124m\"\u001b[39m, \u001b[38;5;28;01mNone\u001b[39;00m))\n\u001b[0;32m    349\u001b[0m     \u001b[38;5;28;01mreturn\u001b[39;00m response\n",
      "File \u001b[1;32m~\\anaconda3\\Lib\\site-packages\\selenium\\webdriver\\remote\\errorhandler.py:229\u001b[0m, in \u001b[0;36mErrorHandler.check_response\u001b[1;34m(self, response)\u001b[0m\n\u001b[0;32m    227\u001b[0m         alert_text \u001b[38;5;241m=\u001b[39m value[\u001b[38;5;124m\"\u001b[39m\u001b[38;5;124malert\u001b[39m\u001b[38;5;124m\"\u001b[39m]\u001b[38;5;241m.\u001b[39mget(\u001b[38;5;124m\"\u001b[39m\u001b[38;5;124mtext\u001b[39m\u001b[38;5;124m\"\u001b[39m)\n\u001b[0;32m    228\u001b[0m     \u001b[38;5;28;01mraise\u001b[39;00m exception_class(message, screen, stacktrace, alert_text)  \u001b[38;5;66;03m# type: ignore[call-arg]  # mypy is not smart enough here\u001b[39;00m\n\u001b[1;32m--> 229\u001b[0m \u001b[38;5;28;01mraise\u001b[39;00m exception_class(message, screen, stacktrace)\n",
      "\u001b[1;31mNoSuchElementException\u001b[0m: Message: no such element: Unable to locate element: {\"method\":\"xpath\",\"selector\":\"/html/body/div/div/div[3]/div[1]/div[2]/div[12]/div/div/nav/a[11]/span\"}\n  (Session info: chrome=122.0.6261.95); For documentation on this error, please visit: https://www.selenium.dev/documentation/webdriver/troubleshooting/errors#no-such-element-exception\nStacktrace:\n\tGetHandleVerifier [0x00007FF770C6AD22+56930]\n\t(No symbol) [0x00007FF770BDF622]\n\t(No symbol) [0x00007FF770A942E5]\n\t(No symbol) [0x00007FF770AD98ED]\n\t(No symbol) [0x00007FF770AD9A2C]\n\t(No symbol) [0x00007FF770B1A967]\n\t(No symbol) [0x00007FF770AFBCDF]\n\t(No symbol) [0x00007FF770B181E2]\n\t(No symbol) [0x00007FF770AFBA43]\n\t(No symbol) [0x00007FF770ACD438]\n\t(No symbol) [0x00007FF770ACE4D1]\n\tGetHandleVerifier [0x00007FF770FE6AAD+3709933]\n\tGetHandleVerifier [0x00007FF77103FFED+4075821]\n\tGetHandleVerifier [0x00007FF77103817F+4043455]\n\tGetHandleVerifier [0x00007FF770D09756+706710]\n\t(No symbol) [0x00007FF770BEB8FF]\n\t(No symbol) [0x00007FF770BE6AE4]\n\t(No symbol) [0x00007FF770BE6C3C]\n\t(No symbol) [0x00007FF770BD68F4]\n\tBaseThreadInitThunk [0x00007FFF5C94257D+29]\n\tRtlUserThreadStart [0x00007FFF5DF2AA58+40]\n"
     ]
    }
   ],
   "source": [
    "brand_title=[]\n",
    "start=0\n",
    "end=3\n",
    "\n",
    "for page in range(start,end):\n",
    "    brand_tag=driver.find_elements(By.XPATH,'//div[@class=\"_2WkVRV\"]')\n",
    "    for tag in brand_tag:\n",
    "        brand_title.append(tag.text)\n",
    "    next_button=driver.find_element(By.XPATH,'/html/body/div/div/div[3]/div[1]/div[2]/div[12]/div/div/nav/a[11]/span')\n",
    "    next_button.click()\n",
    "    time.sleep(3)    \n",
    "   "
   ]
  },
  {
   "cell_type": "code",
   "execution_count": 187,
   "id": "a9641236",
   "metadata": {},
   "outputs": [
    {
     "ename": "NoSuchElementException",
     "evalue": "Message: no such element: Unable to locate element: {\"method\":\"xpath\",\"selector\":\"/html/body/div/div/div[3]/div[1]/div[2]/div[12]/div/div/nav/a[11]/span\"}\n  (Session info: chrome=122.0.6261.95); For documentation on this error, please visit: https://www.selenium.dev/documentation/webdriver/troubleshooting/errors#no-such-element-exception\nStacktrace:\n\tGetHandleVerifier [0x00007FF770C6AD22+56930]\n\t(No symbol) [0x00007FF770BDF622]\n\t(No symbol) [0x00007FF770A942E5]\n\t(No symbol) [0x00007FF770AD98ED]\n\t(No symbol) [0x00007FF770AD9A2C]\n\t(No symbol) [0x00007FF770B1A967]\n\t(No symbol) [0x00007FF770AFBCDF]\n\t(No symbol) [0x00007FF770B181E2]\n\t(No symbol) [0x00007FF770AFBA43]\n\t(No symbol) [0x00007FF770ACD438]\n\t(No symbol) [0x00007FF770ACE4D1]\n\tGetHandleVerifier [0x00007FF770FE6AAD+3709933]\n\tGetHandleVerifier [0x00007FF77103FFED+4075821]\n\tGetHandleVerifier [0x00007FF77103817F+4043455]\n\tGetHandleVerifier [0x00007FF770D09756+706710]\n\t(No symbol) [0x00007FF770BEB8FF]\n\t(No symbol) [0x00007FF770BE6AE4]\n\t(No symbol) [0x00007FF770BE6C3C]\n\t(No symbol) [0x00007FF770BD68F4]\n\tBaseThreadInitThunk [0x00007FFF5C94257D+29]\n\tRtlUserThreadStart [0x00007FFF5DF2AA58+40]\n",
     "output_type": "error",
     "traceback": [
      "\u001b[1;31m---------------------------------------------------------------------------\u001b[0m",
      "\u001b[1;31mNoSuchElementException\u001b[0m                    Traceback (most recent call last)",
      "Cell \u001b[1;32mIn[187], line 10\u001b[0m\n\u001b[0;32m      8\u001b[0m \u001b[38;5;28;01mfor\u001b[39;00m i \u001b[38;5;129;01min\u001b[39;00m discription_tag:\n\u001b[0;32m      9\u001b[0m     discription\u001b[38;5;241m.\u001b[39mappend(i\u001b[38;5;241m.\u001b[39mtext)\n\u001b[1;32m---> 10\u001b[0m next_button\u001b[38;5;241m=\u001b[39mdriver\u001b[38;5;241m.\u001b[39mfind_element(By\u001b[38;5;241m.\u001b[39mXPATH,\u001b[38;5;124m'\u001b[39m\u001b[38;5;124m/html/body/div/div/div[3]/div[1]/div[2]/div[12]/div/div/nav/a[11]/span\u001b[39m\u001b[38;5;124m'\u001b[39m)\n\u001b[0;32m     11\u001b[0m next_button\u001b[38;5;241m.\u001b[39mclick()\n\u001b[0;32m     12\u001b[0m time\u001b[38;5;241m.\u001b[39msleep(\u001b[38;5;241m3\u001b[39m)\n",
      "File \u001b[1;32m~\\anaconda3\\Lib\\site-packages\\selenium\\webdriver\\remote\\webdriver.py:741\u001b[0m, in \u001b[0;36mWebDriver.find_element\u001b[1;34m(self, by, value)\u001b[0m\n\u001b[0;32m    738\u001b[0m     by \u001b[38;5;241m=\u001b[39m By\u001b[38;5;241m.\u001b[39mCSS_SELECTOR\n\u001b[0;32m    739\u001b[0m     value \u001b[38;5;241m=\u001b[39m \u001b[38;5;124mf\u001b[39m\u001b[38;5;124m'\u001b[39m\u001b[38;5;124m[name=\u001b[39m\u001b[38;5;124m\"\u001b[39m\u001b[38;5;132;01m{\u001b[39;00mvalue\u001b[38;5;132;01m}\u001b[39;00m\u001b[38;5;124m\"\u001b[39m\u001b[38;5;124m]\u001b[39m\u001b[38;5;124m'\u001b[39m\n\u001b[1;32m--> 741\u001b[0m \u001b[38;5;28;01mreturn\u001b[39;00m \u001b[38;5;28mself\u001b[39m\u001b[38;5;241m.\u001b[39mexecute(Command\u001b[38;5;241m.\u001b[39mFIND_ELEMENT, {\u001b[38;5;124m\"\u001b[39m\u001b[38;5;124musing\u001b[39m\u001b[38;5;124m\"\u001b[39m: by, \u001b[38;5;124m\"\u001b[39m\u001b[38;5;124mvalue\u001b[39m\u001b[38;5;124m\"\u001b[39m: value})[\u001b[38;5;124m\"\u001b[39m\u001b[38;5;124mvalue\u001b[39m\u001b[38;5;124m\"\u001b[39m]\n",
      "File \u001b[1;32m~\\anaconda3\\Lib\\site-packages\\selenium\\webdriver\\remote\\webdriver.py:347\u001b[0m, in \u001b[0;36mWebDriver.execute\u001b[1;34m(self, driver_command, params)\u001b[0m\n\u001b[0;32m    345\u001b[0m response \u001b[38;5;241m=\u001b[39m \u001b[38;5;28mself\u001b[39m\u001b[38;5;241m.\u001b[39mcommand_executor\u001b[38;5;241m.\u001b[39mexecute(driver_command, params)\n\u001b[0;32m    346\u001b[0m \u001b[38;5;28;01mif\u001b[39;00m response:\n\u001b[1;32m--> 347\u001b[0m     \u001b[38;5;28mself\u001b[39m\u001b[38;5;241m.\u001b[39merror_handler\u001b[38;5;241m.\u001b[39mcheck_response(response)\n\u001b[0;32m    348\u001b[0m     response[\u001b[38;5;124m\"\u001b[39m\u001b[38;5;124mvalue\u001b[39m\u001b[38;5;124m\"\u001b[39m] \u001b[38;5;241m=\u001b[39m \u001b[38;5;28mself\u001b[39m\u001b[38;5;241m.\u001b[39m_unwrap_value(response\u001b[38;5;241m.\u001b[39mget(\u001b[38;5;124m\"\u001b[39m\u001b[38;5;124mvalue\u001b[39m\u001b[38;5;124m\"\u001b[39m, \u001b[38;5;28;01mNone\u001b[39;00m))\n\u001b[0;32m    349\u001b[0m     \u001b[38;5;28;01mreturn\u001b[39;00m response\n",
      "File \u001b[1;32m~\\anaconda3\\Lib\\site-packages\\selenium\\webdriver\\remote\\errorhandler.py:229\u001b[0m, in \u001b[0;36mErrorHandler.check_response\u001b[1;34m(self, response)\u001b[0m\n\u001b[0;32m    227\u001b[0m         alert_text \u001b[38;5;241m=\u001b[39m value[\u001b[38;5;124m\"\u001b[39m\u001b[38;5;124malert\u001b[39m\u001b[38;5;124m\"\u001b[39m]\u001b[38;5;241m.\u001b[39mget(\u001b[38;5;124m\"\u001b[39m\u001b[38;5;124mtext\u001b[39m\u001b[38;5;124m\"\u001b[39m)\n\u001b[0;32m    228\u001b[0m     \u001b[38;5;28;01mraise\u001b[39;00m exception_class(message, screen, stacktrace, alert_text)  \u001b[38;5;66;03m# type: ignore[call-arg]  # mypy is not smart enough here\u001b[39;00m\n\u001b[1;32m--> 229\u001b[0m \u001b[38;5;28;01mraise\u001b[39;00m exception_class(message, screen, stacktrace)\n",
      "\u001b[1;31mNoSuchElementException\u001b[0m: Message: no such element: Unable to locate element: {\"method\":\"xpath\",\"selector\":\"/html/body/div/div/div[3]/div[1]/div[2]/div[12]/div/div/nav/a[11]/span\"}\n  (Session info: chrome=122.0.6261.95); For documentation on this error, please visit: https://www.selenium.dev/documentation/webdriver/troubleshooting/errors#no-such-element-exception\nStacktrace:\n\tGetHandleVerifier [0x00007FF770C6AD22+56930]\n\t(No symbol) [0x00007FF770BDF622]\n\t(No symbol) [0x00007FF770A942E5]\n\t(No symbol) [0x00007FF770AD98ED]\n\t(No symbol) [0x00007FF770AD9A2C]\n\t(No symbol) [0x00007FF770B1A967]\n\t(No symbol) [0x00007FF770AFBCDF]\n\t(No symbol) [0x00007FF770B181E2]\n\t(No symbol) [0x00007FF770AFBA43]\n\t(No symbol) [0x00007FF770ACD438]\n\t(No symbol) [0x00007FF770ACE4D1]\n\tGetHandleVerifier [0x00007FF770FE6AAD+3709933]\n\tGetHandleVerifier [0x00007FF77103FFED+4075821]\n\tGetHandleVerifier [0x00007FF77103817F+4043455]\n\tGetHandleVerifier [0x00007FF770D09756+706710]\n\t(No symbol) [0x00007FF770BEB8FF]\n\t(No symbol) [0x00007FF770BE6AE4]\n\t(No symbol) [0x00007FF770BE6C3C]\n\t(No symbol) [0x00007FF770BD68F4]\n\tBaseThreadInitThunk [0x00007FFF5C94257D+29]\n\tRtlUserThreadStart [0x00007FFF5DF2AA58+40]\n"
     ]
    }
   ],
   "source": [
    "discription=[]\n",
    "\n",
    "start=0\n",
    "end=3\n",
    "\n",
    "for page in range(start,end):\n",
    "    discription_tag=driver.find_elements(By.XPATH,'//a[@class=\"IRpwTa\"]')\n",
    "    for i in discription_tag:\n",
    "        discription.append(i.text)\n",
    "    next_button=driver.find_element(By.XPATH,'/html/body/div/div/div[3]/div[1]/div[2]/div[12]/div/div/nav/a[11]/span')\n",
    "    next_button.click()\n",
    "    time.sleep(3)   "
   ]
  },
  {
   "cell_type": "code",
   "execution_count": 192,
   "id": "6a0d24f0",
   "metadata": {},
   "outputs": [
    {
     "ename": "NoSuchElementException",
     "evalue": "Message: no such element: Unable to locate element: {\"method\":\"xpath\",\"selector\":\"/html/body/div/div/div[3]/div[1]/div[2]/div[12]/div/div/nav/a[11]/span\"}\n  (Session info: chrome=122.0.6261.95); For documentation on this error, please visit: https://www.selenium.dev/documentation/webdriver/troubleshooting/errors#no-such-element-exception\nStacktrace:\n\tGetHandleVerifier [0x00007FF770C6AD22+56930]\n\t(No symbol) [0x00007FF770BDF622]\n\t(No symbol) [0x00007FF770A942E5]\n\t(No symbol) [0x00007FF770AD98ED]\n\t(No symbol) [0x00007FF770AD9A2C]\n\t(No symbol) [0x00007FF770B1A967]\n\t(No symbol) [0x00007FF770AFBCDF]\n\t(No symbol) [0x00007FF770B181E2]\n\t(No symbol) [0x00007FF770AFBA43]\n\t(No symbol) [0x00007FF770ACD438]\n\t(No symbol) [0x00007FF770ACE4D1]\n\tGetHandleVerifier [0x00007FF770FE6AAD+3709933]\n\tGetHandleVerifier [0x00007FF77103FFED+4075821]\n\tGetHandleVerifier [0x00007FF77103817F+4043455]\n\tGetHandleVerifier [0x00007FF770D09756+706710]\n\t(No symbol) [0x00007FF770BEB8FF]\n\t(No symbol) [0x00007FF770BE6AE4]\n\t(No symbol) [0x00007FF770BE6C3C]\n\t(No symbol) [0x00007FF770BD68F4]\n\tBaseThreadInitThunk [0x00007FFF5C94257D+29]\n\tRtlUserThreadStart [0x00007FFF5DF2AA58+40]\n",
     "output_type": "error",
     "traceback": [
      "\u001b[1;31m---------------------------------------------------------------------------\u001b[0m",
      "\u001b[1;31mNoSuchElementException\u001b[0m                    Traceback (most recent call last)",
      "Cell \u001b[1;32mIn[192], line 9\u001b[0m\n\u001b[0;32m      7\u001b[0m \u001b[38;5;28;01mfor\u001b[39;00m tag \u001b[38;5;129;01min\u001b[39;00m price_tag:\n\u001b[0;32m      8\u001b[0m     price\u001b[38;5;241m.\u001b[39mappend(tag\u001b[38;5;241m.\u001b[39mtext)\n\u001b[1;32m----> 9\u001b[0m next_button\u001b[38;5;241m=\u001b[39mdriver\u001b[38;5;241m.\u001b[39mfind_element(By\u001b[38;5;241m.\u001b[39mXPATH,\u001b[38;5;124m'\u001b[39m\u001b[38;5;124m/html/body/div/div/div[3]/div[1]/div[2]/div[12]/div/div/nav/a[11]/span\u001b[39m\u001b[38;5;124m'\u001b[39m)\n\u001b[0;32m     10\u001b[0m next_button\u001b[38;5;241m.\u001b[39mclick()\n\u001b[0;32m     11\u001b[0m time\u001b[38;5;241m.\u001b[39msleep(\u001b[38;5;241m3\u001b[39m)\n",
      "File \u001b[1;32m~\\anaconda3\\Lib\\site-packages\\selenium\\webdriver\\remote\\webdriver.py:741\u001b[0m, in \u001b[0;36mWebDriver.find_element\u001b[1;34m(self, by, value)\u001b[0m\n\u001b[0;32m    738\u001b[0m     by \u001b[38;5;241m=\u001b[39m By\u001b[38;5;241m.\u001b[39mCSS_SELECTOR\n\u001b[0;32m    739\u001b[0m     value \u001b[38;5;241m=\u001b[39m \u001b[38;5;124mf\u001b[39m\u001b[38;5;124m'\u001b[39m\u001b[38;5;124m[name=\u001b[39m\u001b[38;5;124m\"\u001b[39m\u001b[38;5;132;01m{\u001b[39;00mvalue\u001b[38;5;132;01m}\u001b[39;00m\u001b[38;5;124m\"\u001b[39m\u001b[38;5;124m]\u001b[39m\u001b[38;5;124m'\u001b[39m\n\u001b[1;32m--> 741\u001b[0m \u001b[38;5;28;01mreturn\u001b[39;00m \u001b[38;5;28mself\u001b[39m\u001b[38;5;241m.\u001b[39mexecute(Command\u001b[38;5;241m.\u001b[39mFIND_ELEMENT, {\u001b[38;5;124m\"\u001b[39m\u001b[38;5;124musing\u001b[39m\u001b[38;5;124m\"\u001b[39m: by, \u001b[38;5;124m\"\u001b[39m\u001b[38;5;124mvalue\u001b[39m\u001b[38;5;124m\"\u001b[39m: value})[\u001b[38;5;124m\"\u001b[39m\u001b[38;5;124mvalue\u001b[39m\u001b[38;5;124m\"\u001b[39m]\n",
      "File \u001b[1;32m~\\anaconda3\\Lib\\site-packages\\selenium\\webdriver\\remote\\webdriver.py:347\u001b[0m, in \u001b[0;36mWebDriver.execute\u001b[1;34m(self, driver_command, params)\u001b[0m\n\u001b[0;32m    345\u001b[0m response \u001b[38;5;241m=\u001b[39m \u001b[38;5;28mself\u001b[39m\u001b[38;5;241m.\u001b[39mcommand_executor\u001b[38;5;241m.\u001b[39mexecute(driver_command, params)\n\u001b[0;32m    346\u001b[0m \u001b[38;5;28;01mif\u001b[39;00m response:\n\u001b[1;32m--> 347\u001b[0m     \u001b[38;5;28mself\u001b[39m\u001b[38;5;241m.\u001b[39merror_handler\u001b[38;5;241m.\u001b[39mcheck_response(response)\n\u001b[0;32m    348\u001b[0m     response[\u001b[38;5;124m\"\u001b[39m\u001b[38;5;124mvalue\u001b[39m\u001b[38;5;124m\"\u001b[39m] \u001b[38;5;241m=\u001b[39m \u001b[38;5;28mself\u001b[39m\u001b[38;5;241m.\u001b[39m_unwrap_value(response\u001b[38;5;241m.\u001b[39mget(\u001b[38;5;124m\"\u001b[39m\u001b[38;5;124mvalue\u001b[39m\u001b[38;5;124m\"\u001b[39m, \u001b[38;5;28;01mNone\u001b[39;00m))\n\u001b[0;32m    349\u001b[0m     \u001b[38;5;28;01mreturn\u001b[39;00m response\n",
      "File \u001b[1;32m~\\anaconda3\\Lib\\site-packages\\selenium\\webdriver\\remote\\errorhandler.py:229\u001b[0m, in \u001b[0;36mErrorHandler.check_response\u001b[1;34m(self, response)\u001b[0m\n\u001b[0;32m    227\u001b[0m         alert_text \u001b[38;5;241m=\u001b[39m value[\u001b[38;5;124m\"\u001b[39m\u001b[38;5;124malert\u001b[39m\u001b[38;5;124m\"\u001b[39m]\u001b[38;5;241m.\u001b[39mget(\u001b[38;5;124m\"\u001b[39m\u001b[38;5;124mtext\u001b[39m\u001b[38;5;124m\"\u001b[39m)\n\u001b[0;32m    228\u001b[0m     \u001b[38;5;28;01mraise\u001b[39;00m exception_class(message, screen, stacktrace, alert_text)  \u001b[38;5;66;03m# type: ignore[call-arg]  # mypy is not smart enough here\u001b[39;00m\n\u001b[1;32m--> 229\u001b[0m \u001b[38;5;28;01mraise\u001b[39;00m exception_class(message, screen, stacktrace)\n",
      "\u001b[1;31mNoSuchElementException\u001b[0m: Message: no such element: Unable to locate element: {\"method\":\"xpath\",\"selector\":\"/html/body/div/div/div[3]/div[1]/div[2]/div[12]/div/div/nav/a[11]/span\"}\n  (Session info: chrome=122.0.6261.95); For documentation on this error, please visit: https://www.selenium.dev/documentation/webdriver/troubleshooting/errors#no-such-element-exception\nStacktrace:\n\tGetHandleVerifier [0x00007FF770C6AD22+56930]\n\t(No symbol) [0x00007FF770BDF622]\n\t(No symbol) [0x00007FF770A942E5]\n\t(No symbol) [0x00007FF770AD98ED]\n\t(No symbol) [0x00007FF770AD9A2C]\n\t(No symbol) [0x00007FF770B1A967]\n\t(No symbol) [0x00007FF770AFBCDF]\n\t(No symbol) [0x00007FF770B181E2]\n\t(No symbol) [0x00007FF770AFBA43]\n\t(No symbol) [0x00007FF770ACD438]\n\t(No symbol) [0x00007FF770ACE4D1]\n\tGetHandleVerifier [0x00007FF770FE6AAD+3709933]\n\tGetHandleVerifier [0x00007FF77103FFED+4075821]\n\tGetHandleVerifier [0x00007FF77103817F+4043455]\n\tGetHandleVerifier [0x00007FF770D09756+706710]\n\t(No symbol) [0x00007FF770BEB8FF]\n\t(No symbol) [0x00007FF770BE6AE4]\n\t(No symbol) [0x00007FF770BE6C3C]\n\t(No symbol) [0x00007FF770BD68F4]\n\tBaseThreadInitThunk [0x00007FFF5C94257D+29]\n\tRtlUserThreadStart [0x00007FFF5DF2AA58+40]\n"
     ]
    }
   ],
   "source": [
    "price=[]\n",
    "start=0\n",
    "end=3\n",
    "\n",
    "for page in range(start,end):\n",
    "    price_tag=driver.find_elements(By.XPATH,'//div[@class=\"_3I9_wc\"]')\n",
    "    for tag in price_tag:\n",
    "        price.append(tag.text)\n",
    "    next_button=driver.find_element(By.XPATH,'/html/body/div/div/div[3]/div[1]/div[2]/div[12]/div/div/nav/a[11]/span')\n",
    "    next_button.click()\n",
    "    time.sleep(3)       "
   ]
  },
  {
   "cell_type": "code",
   "execution_count": 196,
   "id": "ab35882f",
   "metadata": {},
   "outputs": [
    {
     "ename": "NoSuchElementException",
     "evalue": "Message: no such element: Unable to locate element: {\"method\":\"xpath\",\"selector\":\"/html/body/div/div/div[3]/div[1]/div[2]/div[12]/div/div/nav/a[11]/span\"}\n  (Session info: chrome=122.0.6261.95); For documentation on this error, please visit: https://www.selenium.dev/documentation/webdriver/troubleshooting/errors#no-such-element-exception\nStacktrace:\n\tGetHandleVerifier [0x00007FF770C6AD22+56930]\n\t(No symbol) [0x00007FF770BDF622]\n\t(No symbol) [0x00007FF770A942E5]\n\t(No symbol) [0x00007FF770AD98ED]\n\t(No symbol) [0x00007FF770AD9A2C]\n\t(No symbol) [0x00007FF770B1A967]\n\t(No symbol) [0x00007FF770AFBCDF]\n\t(No symbol) [0x00007FF770B181E2]\n\t(No symbol) [0x00007FF770AFBA43]\n\t(No symbol) [0x00007FF770ACD438]\n\t(No symbol) [0x00007FF770ACE4D1]\n\tGetHandleVerifier [0x00007FF770FE6AAD+3709933]\n\tGetHandleVerifier [0x00007FF77103FFED+4075821]\n\tGetHandleVerifier [0x00007FF77103817F+4043455]\n\tGetHandleVerifier [0x00007FF770D09756+706710]\n\t(No symbol) [0x00007FF770BEB8FF]\n\t(No symbol) [0x00007FF770BE6AE4]\n\t(No symbol) [0x00007FF770BE6C3C]\n\t(No symbol) [0x00007FF770BD68F4]\n\tBaseThreadInitThunk [0x00007FFF5C94257D+29]\n\tRtlUserThreadStart [0x00007FFF5DF2AA58+40]\n",
     "output_type": "error",
     "traceback": [
      "\u001b[1;31m---------------------------------------------------------------------------\u001b[0m",
      "\u001b[1;31mNoSuchElementException\u001b[0m                    Traceback (most recent call last)",
      "Cell \u001b[1;32mIn[196], line 9\u001b[0m\n\u001b[0;32m      7\u001b[0m \u001b[38;5;28;01mfor\u001b[39;00m tag \u001b[38;5;129;01min\u001b[39;00m discount_tag:\n\u001b[0;32m      8\u001b[0m     discount_price\u001b[38;5;241m.\u001b[39mappend(tag\u001b[38;5;241m.\u001b[39mtext)\n\u001b[1;32m----> 9\u001b[0m next_button\u001b[38;5;241m=\u001b[39mdriver\u001b[38;5;241m.\u001b[39mfind_element(By\u001b[38;5;241m.\u001b[39mXPATH,\u001b[38;5;124m'\u001b[39m\u001b[38;5;124m/html/body/div/div/div[3]/div[1]/div[2]/div[12]/div/div/nav/a[11]/span\u001b[39m\u001b[38;5;124m'\u001b[39m)\n\u001b[0;32m     10\u001b[0m next_button\u001b[38;5;241m.\u001b[39mclick()\n\u001b[0;32m     11\u001b[0m time\u001b[38;5;241m.\u001b[39msleep(\u001b[38;5;241m3\u001b[39m)\n",
      "File \u001b[1;32m~\\anaconda3\\Lib\\site-packages\\selenium\\webdriver\\remote\\webdriver.py:741\u001b[0m, in \u001b[0;36mWebDriver.find_element\u001b[1;34m(self, by, value)\u001b[0m\n\u001b[0;32m    738\u001b[0m     by \u001b[38;5;241m=\u001b[39m By\u001b[38;5;241m.\u001b[39mCSS_SELECTOR\n\u001b[0;32m    739\u001b[0m     value \u001b[38;5;241m=\u001b[39m \u001b[38;5;124mf\u001b[39m\u001b[38;5;124m'\u001b[39m\u001b[38;5;124m[name=\u001b[39m\u001b[38;5;124m\"\u001b[39m\u001b[38;5;132;01m{\u001b[39;00mvalue\u001b[38;5;132;01m}\u001b[39;00m\u001b[38;5;124m\"\u001b[39m\u001b[38;5;124m]\u001b[39m\u001b[38;5;124m'\u001b[39m\n\u001b[1;32m--> 741\u001b[0m \u001b[38;5;28;01mreturn\u001b[39;00m \u001b[38;5;28mself\u001b[39m\u001b[38;5;241m.\u001b[39mexecute(Command\u001b[38;5;241m.\u001b[39mFIND_ELEMENT, {\u001b[38;5;124m\"\u001b[39m\u001b[38;5;124musing\u001b[39m\u001b[38;5;124m\"\u001b[39m: by, \u001b[38;5;124m\"\u001b[39m\u001b[38;5;124mvalue\u001b[39m\u001b[38;5;124m\"\u001b[39m: value})[\u001b[38;5;124m\"\u001b[39m\u001b[38;5;124mvalue\u001b[39m\u001b[38;5;124m\"\u001b[39m]\n",
      "File \u001b[1;32m~\\anaconda3\\Lib\\site-packages\\selenium\\webdriver\\remote\\webdriver.py:347\u001b[0m, in \u001b[0;36mWebDriver.execute\u001b[1;34m(self, driver_command, params)\u001b[0m\n\u001b[0;32m    345\u001b[0m response \u001b[38;5;241m=\u001b[39m \u001b[38;5;28mself\u001b[39m\u001b[38;5;241m.\u001b[39mcommand_executor\u001b[38;5;241m.\u001b[39mexecute(driver_command, params)\n\u001b[0;32m    346\u001b[0m \u001b[38;5;28;01mif\u001b[39;00m response:\n\u001b[1;32m--> 347\u001b[0m     \u001b[38;5;28mself\u001b[39m\u001b[38;5;241m.\u001b[39merror_handler\u001b[38;5;241m.\u001b[39mcheck_response(response)\n\u001b[0;32m    348\u001b[0m     response[\u001b[38;5;124m\"\u001b[39m\u001b[38;5;124mvalue\u001b[39m\u001b[38;5;124m\"\u001b[39m] \u001b[38;5;241m=\u001b[39m \u001b[38;5;28mself\u001b[39m\u001b[38;5;241m.\u001b[39m_unwrap_value(response\u001b[38;5;241m.\u001b[39mget(\u001b[38;5;124m\"\u001b[39m\u001b[38;5;124mvalue\u001b[39m\u001b[38;5;124m\"\u001b[39m, \u001b[38;5;28;01mNone\u001b[39;00m))\n\u001b[0;32m    349\u001b[0m     \u001b[38;5;28;01mreturn\u001b[39;00m response\n",
      "File \u001b[1;32m~\\anaconda3\\Lib\\site-packages\\selenium\\webdriver\\remote\\errorhandler.py:229\u001b[0m, in \u001b[0;36mErrorHandler.check_response\u001b[1;34m(self, response)\u001b[0m\n\u001b[0;32m    227\u001b[0m         alert_text \u001b[38;5;241m=\u001b[39m value[\u001b[38;5;124m\"\u001b[39m\u001b[38;5;124malert\u001b[39m\u001b[38;5;124m\"\u001b[39m]\u001b[38;5;241m.\u001b[39mget(\u001b[38;5;124m\"\u001b[39m\u001b[38;5;124mtext\u001b[39m\u001b[38;5;124m\"\u001b[39m)\n\u001b[0;32m    228\u001b[0m     \u001b[38;5;28;01mraise\u001b[39;00m exception_class(message, screen, stacktrace, alert_text)  \u001b[38;5;66;03m# type: ignore[call-arg]  # mypy is not smart enough here\u001b[39;00m\n\u001b[1;32m--> 229\u001b[0m \u001b[38;5;28;01mraise\u001b[39;00m exception_class(message, screen, stacktrace)\n",
      "\u001b[1;31mNoSuchElementException\u001b[0m: Message: no such element: Unable to locate element: {\"method\":\"xpath\",\"selector\":\"/html/body/div/div/div[3]/div[1]/div[2]/div[12]/div/div/nav/a[11]/span\"}\n  (Session info: chrome=122.0.6261.95); For documentation on this error, please visit: https://www.selenium.dev/documentation/webdriver/troubleshooting/errors#no-such-element-exception\nStacktrace:\n\tGetHandleVerifier [0x00007FF770C6AD22+56930]\n\t(No symbol) [0x00007FF770BDF622]\n\t(No symbol) [0x00007FF770A942E5]\n\t(No symbol) [0x00007FF770AD98ED]\n\t(No symbol) [0x00007FF770AD9A2C]\n\t(No symbol) [0x00007FF770B1A967]\n\t(No symbol) [0x00007FF770AFBCDF]\n\t(No symbol) [0x00007FF770B181E2]\n\t(No symbol) [0x00007FF770AFBA43]\n\t(No symbol) [0x00007FF770ACD438]\n\t(No symbol) [0x00007FF770ACE4D1]\n\tGetHandleVerifier [0x00007FF770FE6AAD+3709933]\n\tGetHandleVerifier [0x00007FF77103FFED+4075821]\n\tGetHandleVerifier [0x00007FF77103817F+4043455]\n\tGetHandleVerifier [0x00007FF770D09756+706710]\n\t(No symbol) [0x00007FF770BEB8FF]\n\t(No symbol) [0x00007FF770BE6AE4]\n\t(No symbol) [0x00007FF770BE6C3C]\n\t(No symbol) [0x00007FF770BD68F4]\n\tBaseThreadInitThunk [0x00007FFF5C94257D+29]\n\tRtlUserThreadStart [0x00007FFF5DF2AA58+40]\n"
     ]
    }
   ],
   "source": [
    "discount_price=[]\n",
    "start=0\n",
    "end=3\n",
    "\n",
    "for page in range(start,end):\n",
    "    discount_tag=driver.find_elements(By.XPATH,'//div[@class=\"_30jeq3\"]')\n",
    "    for tag in discount_tag:\n",
    "        discount_price.append(tag.text)\n",
    "    next_button=driver.find_element(By.XPATH,'/html/body/div/div/div[3]/div[1]/div[2]/div[12]/div/div/nav/a[11]/span')\n",
    "    next_button.click()\n",
    "    time.sleep(3)      "
   ]
  },
  {
   "cell_type": "code",
   "execution_count": 200,
   "id": "8036428d",
   "metadata": {},
   "outputs": [
    {
     "data": {
      "text/html": [
       "<div>\n",
       "<style scoped>\n",
       "    .dataframe tbody tr th:only-of-type {\n",
       "        vertical-align: middle;\n",
       "    }\n",
       "\n",
       "    .dataframe tbody tr th {\n",
       "        vertical-align: top;\n",
       "    }\n",
       "\n",
       "    .dataframe thead th {\n",
       "        text-align: right;\n",
       "    }\n",
       "</style>\n",
       "<table border=\"1\" class=\"dataframe\">\n",
       "  <thead>\n",
       "    <tr style=\"text-align: right;\">\n",
       "      <th></th>\n",
       "      <th>Brand</th>\n",
       "      <th>Product_discription</th>\n",
       "      <th>Price</th>\n",
       "      <th>Discount_price</th>\n",
       "    </tr>\n",
       "  </thead>\n",
       "  <tbody>\n",
       "    <tr>\n",
       "      <th>0</th>\n",
       "      <td>VINCENT CHASE</td>\n",
       "      <td>by Lenskart Polarized, UV Protection Rectangul...</td>\n",
       "      <td>₹1,999</td>\n",
       "      <td>₹699</td>\n",
       "    </tr>\n",
       "    <tr>\n",
       "      <th>1</th>\n",
       "      <td>VINCENT CHASE</td>\n",
       "      <td>by Lenskart Polarized, UV Protection Aviator S...</td>\n",
       "      <td>₹1,999</td>\n",
       "      <td>₹649</td>\n",
       "    </tr>\n",
       "    <tr>\n",
       "      <th>2</th>\n",
       "      <td>Fastrack</td>\n",
       "      <td>UV Protection Wayfarer Sunglasses (58)</td>\n",
       "      <td>₹1,099</td>\n",
       "      <td>₹569</td>\n",
       "    </tr>\n",
       "    <tr>\n",
       "      <th>3</th>\n",
       "      <td>SRPM</td>\n",
       "      <td>UV Protection, Mirrored Wayfarer Sunglasses (52)</td>\n",
       "      <td>₹1,299</td>\n",
       "      <td>₹169</td>\n",
       "    </tr>\n",
       "    <tr>\n",
       "      <th>4</th>\n",
       "      <td>Elligator</td>\n",
       "      <td>UV Protection Rectangular Sunglasses (Free Size)</td>\n",
       "      <td>₹999</td>\n",
       "      <td>₹169</td>\n",
       "    </tr>\n",
       "    <tr>\n",
       "      <th>...</th>\n",
       "      <td>...</td>\n",
       "      <td>...</td>\n",
       "      <td>...</td>\n",
       "      <td>...</td>\n",
       "    </tr>\n",
       "    <tr>\n",
       "      <th>74</th>\n",
       "      <td>RBGIIT</td>\n",
       "      <td>by Lenskart Polarized, UV Protection Round Sun...</td>\n",
       "      <td>₹599</td>\n",
       "      <td>₹579</td>\n",
       "    </tr>\n",
       "    <tr>\n",
       "      <th>75</th>\n",
       "      <td>VINCENT CHASE</td>\n",
       "      <td>Polarized, UV Protection Rectangular Sunglasse...</td>\n",
       "      <td>₹1,999</td>\n",
       "      <td>₹330</td>\n",
       "    </tr>\n",
       "    <tr>\n",
       "      <th>76</th>\n",
       "      <td>VINCENT CHASE</td>\n",
       "      <td>UV Protection Round Sunglasses (47)</td>\n",
       "      <td>₹2,499</td>\n",
       "      <td>₹1,234</td>\n",
       "    </tr>\n",
       "    <tr>\n",
       "      <th>77</th>\n",
       "      <td>VINCENT CHASE</td>\n",
       "      <td>UV Protection Retro Square Sunglasses (Free Size)</td>\n",
       "      <td>₹3,699</td>\n",
       "      <td>₹487</td>\n",
       "    </tr>\n",
       "    <tr>\n",
       "      <th>78</th>\n",
       "      <td>PIRASO</td>\n",
       "      <td>UV Protection Wayfarer Sunglasses (56)</td>\n",
       "      <td>₹2,225</td>\n",
       "      <td>₹699</td>\n",
       "    </tr>\n",
       "  </tbody>\n",
       "</table>\n",
       "<p>79 rows × 4 columns</p>\n",
       "</div>"
      ],
      "text/plain": [
       "            Brand                                Product_discription   Price  \\\n",
       "0   VINCENT CHASE  by Lenskart Polarized, UV Protection Rectangul...  ₹1,999   \n",
       "1   VINCENT CHASE  by Lenskart Polarized, UV Protection Aviator S...  ₹1,999   \n",
       "2        Fastrack             UV Protection Wayfarer Sunglasses (58)  ₹1,099   \n",
       "3            SRPM   UV Protection, Mirrored Wayfarer Sunglasses (52)  ₹1,299   \n",
       "4       Elligator   UV Protection Rectangular Sunglasses (Free Size)    ₹999   \n",
       "..            ...                                                ...     ...   \n",
       "74         RBGIIT  by Lenskart Polarized, UV Protection Round Sun...    ₹599   \n",
       "75  VINCENT CHASE  Polarized, UV Protection Rectangular Sunglasse...  ₹1,999   \n",
       "76  VINCENT CHASE                UV Protection Round Sunglasses (47)  ₹2,499   \n",
       "77  VINCENT CHASE  UV Protection Retro Square Sunglasses (Free Size)  ₹3,699   \n",
       "78         PIRASO             UV Protection Wayfarer Sunglasses (56)  ₹2,225   \n",
       "\n",
       "   Discount_price  \n",
       "0            ₹699  \n",
       "1            ₹649  \n",
       "2            ₹569  \n",
       "3            ₹169  \n",
       "4            ₹169  \n",
       "..            ...  \n",
       "74           ₹579  \n",
       "75           ₹330  \n",
       "76         ₹1,234  \n",
       "77           ₹487  \n",
       "78           ₹699  \n",
       "\n",
       "[79 rows x 4 columns]"
      ]
     },
     "execution_count": 200,
     "metadata": {},
     "output_type": "execute_result"
    }
   ],
   "source": [
    "product=pd.DataFrame({'Brand':brand_title,'Product_discription':discription,'Price':price,'Discount_price':discount_price})\n",
    "product"
   ]
  },
  {
   "cell_type": "code",
   "execution_count": null,
   "id": "bd01a54d",
   "metadata": {},
   "outputs": [],
   "source": []
  },
  {
   "cell_type": "markdown",
   "id": "b6edeb97",
   "metadata": {},
   "source": [
    "Q1: Write a python program to scrape data for “Data Analyst” Job position in “Bangalore” location.\n",
    "You have to scrape the job-title, job-location, company_name, experience_required. You have to\n",
    "scrape first 10 jobs data."
   ]
  },
  {
   "cell_type": "code",
   "execution_count": 204,
   "id": "63ec7699",
   "metadata": {},
   "outputs": [],
   "source": [
    "driver=webdriver.Chrome()\n",
    "driver.get('https://www.shine.com/')"
   ]
  },
  {
   "cell_type": "code",
   "execution_count": 209,
   "id": "a95cb163",
   "metadata": {},
   "outputs": [],
   "source": [
    "designation=driver.find_element(By.XPATH,'/html/body/div/div[2]/div/div/div[1]/div[1]/div/div[2]/div/div/form/div/div[1]/ul/li[1]/div/input')\n",
    "designation.send_keys('Data_analyst')"
   ]
  },
  {
   "cell_type": "code",
   "execution_count": 211,
   "id": "76143705",
   "metadata": {},
   "outputs": [],
   "source": [
    "location=driver.find_element(By.XPATH,'/html/body/div/div[2]/div/div/div[1]/div[1]/div/div[2]/div/div/form/div/div[1]/ul/li[2]/div/input')\n",
    "location.send_keys('Bengalore')"
   ]
  },
  {
   "cell_type": "code",
   "execution_count": 212,
   "id": "2b7fa038",
   "metadata": {},
   "outputs": [],
   "source": [
    "search=driver.find_element(By.XPATH,'/html/body/div/div[2]/div/div/div[1]/div[1]/div/div[2]/div/div/form/div/div[2]/div/button')\n",
    "search.click()"
   ]
  },
  {
   "cell_type": "code",
   "execution_count": 213,
   "id": "204baad8",
   "metadata": {},
   "outputs": [],
   "source": [
    "job_title=[]\n",
    "i=0\n",
    "\n",
    "job_title_tag=driver.find_elements(By.XPATH,'//h2[@itemprop=\"name\"]')\n",
    "for tag in job_title_tag:\n",
    "    if i>=10:\n",
    "        break\n",
    "    job_title.append(tag.text)\n",
    "    i+=1"
   ]
  },
  {
   "cell_type": "code",
   "execution_count": 217,
   "id": "64490317",
   "metadata": {},
   "outputs": [],
   "source": [
    "job_location=[]\n",
    "i=0\n",
    "\n",
    "location_tag=driver.find_elements(By.XPATH,'//div[@class=\" jobCard_jobCard_lists_item__YxRkV jobCard_locationIcon__zrWt2\"]')\n",
    "for tag in location_tag:\n",
    "    if i>=10:\n",
    "        break\n",
    "    job_location.append(tag.text)\n",
    "    i+=1"
   ]
  },
  {
   "cell_type": "code",
   "execution_count": 227,
   "id": "94a0ade1",
   "metadata": {},
   "outputs": [],
   "source": [
    "company_name=[]\n",
    "i=0\n",
    "\n",
    "company_tag=driver.find_elements(By.XPATH,'//div[@class=\"jobCard_jobCard_cName__mYnow\"]/span')\n",
    "for tag in company_tag:\n",
    "    if i>=10:\n",
    "        break\n",
    "    company_name.append(tag.text)\n",
    "    i+=1"
   ]
  },
  {
   "cell_type": "code",
   "execution_count": 228,
   "id": "5b32eca9",
   "metadata": {},
   "outputs": [
    {
     "data": {
      "text/plain": [
       "10"
      ]
     },
     "execution_count": 228,
     "metadata": {},
     "output_type": "execute_result"
    }
   ],
   "source": [
    "len(company_name)"
   ]
  },
  {
   "cell_type": "code",
   "execution_count": 233,
   "id": "39c48861",
   "metadata": {},
   "outputs": [],
   "source": [
    "experience=[]\n",
    "i=0\n",
    "\n",
    "experience_tag=driver.find_elements(By.XPATH,'//div[@class=\" jobCard_jobCard_lists_item__YxRkV jobCard_jobIcon__3FB1t\"]')\n",
    "for tag in experience_tag:\n",
    "    if i>=10:\n",
    "        break\n",
    "    experience.append(tag.text)\n",
    "    i+=1"
   ]
  },
  {
   "cell_type": "code",
   "execution_count": 235,
   "id": "036ae60c",
   "metadata": {},
   "outputs": [
    {
     "data": {
      "text/html": [
       "<div>\n",
       "<style scoped>\n",
       "    .dataframe tbody tr th:only-of-type {\n",
       "        vertical-align: middle;\n",
       "    }\n",
       "\n",
       "    .dataframe tbody tr th {\n",
       "        vertical-align: top;\n",
       "    }\n",
       "\n",
       "    .dataframe thead th {\n",
       "        text-align: right;\n",
       "    }\n",
       "</style>\n",
       "<table border=\"1\" class=\"dataframe\">\n",
       "  <thead>\n",
       "    <tr style=\"text-align: right;\">\n",
       "      <th></th>\n",
       "      <th>Job_title</th>\n",
       "      <th>Job_location</th>\n",
       "      <th>Company_name</th>\n",
       "      <th>Required_experience</th>\n",
       "    </tr>\n",
       "  </thead>\n",
       "  <tbody>\n",
       "    <tr>\n",
       "      <th>0</th>\n",
       "      <td>Need Data Analyst for Jewellery Company at Pit...</td>\n",
       "      <td>Delhi</td>\n",
       "      <td>job tunnel consultancy hiring for j...</td>\n",
       "      <td>2 to 6 Yrs</td>\n",
       "    </tr>\n",
       "    <tr>\n",
       "      <th>1</th>\n",
       "      <td>Data Analyst</td>\n",
       "      <td>Gurugram\\n+9</td>\n",
       "      <td>sahast sales corporation</td>\n",
       "      <td>12 to 22 Yrs</td>\n",
       "    </tr>\n",
       "    <tr>\n",
       "      <th>2</th>\n",
       "      <td>Urgent Hiring for Data Analyst</td>\n",
       "      <td>Australia\\n+8</td>\n",
       "      <td>prime immigration llp</td>\n",
       "      <td>5 to 10 Yrs</td>\n",
       "    </tr>\n",
       "    <tr>\n",
       "      <th>3</th>\n",
       "      <td>Hiring For Data Analyst</td>\n",
       "      <td>Oman\\n+12</td>\n",
       "      <td>radhika enterprises</td>\n",
       "      <td>0 to 4 Yrs</td>\n",
       "    </tr>\n",
       "    <tr>\n",
       "      <th>4</th>\n",
       "      <td>Hiring For Data Analyst</td>\n",
       "      <td>Oman\\n+12</td>\n",
       "      <td>radhika enterprises</td>\n",
       "      <td>0 to 4 Yrs</td>\n",
       "    </tr>\n",
       "    <tr>\n",
       "      <th>5</th>\n",
       "      <td>Laravel Developer</td>\n",
       "      <td>Kullu\\n+1</td>\n",
       "      <td>avenir digital stories</td>\n",
       "      <td>2 to 6 Yrs</td>\n",
       "    </tr>\n",
       "    <tr>\n",
       "      <th>6</th>\n",
       "      <td>Data Scientist</td>\n",
       "      <td>Australia\\n+4</td>\n",
       "      <td>advance immigrations</td>\n",
       "      <td>6 to 11 Yrs</td>\n",
       "    </tr>\n",
       "    <tr>\n",
       "      <th>7</th>\n",
       "      <td>Data Scientist</td>\n",
       "      <td>Australia\\n+2</td>\n",
       "      <td>advance immigrations</td>\n",
       "      <td>5 to 10 Yrs</td>\n",
       "    </tr>\n",
       "    <tr>\n",
       "      <th>8</th>\n",
       "      <td>Data Analyst , Senior Data Analyst , Data Anal...</td>\n",
       "      <td>Gurugram\\n+8</td>\n",
       "      <td>appsoft solutions</td>\n",
       "      <td>0 to 4 Yrs</td>\n",
       "    </tr>\n",
       "    <tr>\n",
       "      <th>9</th>\n",
       "      <td>Data Analyst , Senior Data Analyst , Data Anal...</td>\n",
       "      <td>Other Maharashtra</td>\n",
       "      <td>aryantech india pvt ltd</td>\n",
       "      <td>0 to 3 Yrs</td>\n",
       "    </tr>\n",
       "  </tbody>\n",
       "</table>\n",
       "</div>"
      ],
      "text/plain": [
       "                                           Job_title       Job_location  \\\n",
       "0  Need Data Analyst for Jewellery Company at Pit...              Delhi   \n",
       "1                                       Data Analyst       Gurugram\\n+9   \n",
       "2                     Urgent Hiring for Data Analyst      Australia\\n+8   \n",
       "3                            Hiring For Data Analyst          Oman\\n+12   \n",
       "4                            Hiring For Data Analyst          Oman\\n+12   \n",
       "5                                  Laravel Developer          Kullu\\n+1   \n",
       "6                                     Data Scientist      Australia\\n+4   \n",
       "7                                     Data Scientist      Australia\\n+2   \n",
       "8  Data Analyst , Senior Data Analyst , Data Anal...       Gurugram\\n+8   \n",
       "9  Data Analyst , Senior Data Analyst , Data Anal...  Other Maharashtra   \n",
       "\n",
       "                             Company_name Required_experience  \n",
       "0  job tunnel consultancy hiring for j...          2 to 6 Yrs  \n",
       "1                sahast sales corporation        12 to 22 Yrs  \n",
       "2                   prime immigration llp         5 to 10 Yrs  \n",
       "3                     radhika enterprises          0 to 4 Yrs  \n",
       "4                     radhika enterprises          0 to 4 Yrs  \n",
       "5                  avenir digital stories          2 to 6 Yrs  \n",
       "6                    advance immigrations         6 to 11 Yrs  \n",
       "7                    advance immigrations         5 to 10 Yrs  \n",
       "8                       appsoft solutions          0 to 4 Yrs  \n",
       "9                 aryantech india pvt ltd          0 to 3 Yrs  "
      ]
     },
     "execution_count": 235,
     "metadata": {},
     "output_type": "execute_result"
    }
   ],
   "source": [
    "job=pd.DataFrame({'Job_title':job_title,'Job_location':job_location,'Company_name':company_name,'Required_experience':experience})\n",
    "job"
   ]
  },
  {
   "cell_type": "code",
   "execution_count": null,
   "id": "7b9dfe78",
   "metadata": {},
   "outputs": [],
   "source": []
  }
 ],
 "metadata": {
  "kernelspec": {
   "display_name": "Python 3 (ipykernel)",
   "language": "python",
   "name": "python3"
  },
  "language_info": {
   "codemirror_mode": {
    "name": "ipython",
    "version": 3
   },
   "file_extension": ".py",
   "mimetype": "text/x-python",
   "name": "python",
   "nbconvert_exporter": "python",
   "pygments_lexer": "ipython3",
   "version": "3.11.3"
  }
 },
 "nbformat": 4,
 "nbformat_minor": 5
}
